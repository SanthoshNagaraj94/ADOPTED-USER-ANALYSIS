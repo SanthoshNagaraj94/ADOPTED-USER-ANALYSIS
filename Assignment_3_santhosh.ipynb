{
  "nbformat": 4,
  "nbformat_minor": 0,
  "metadata": {
    "colab": {
      "name": "Assignment_3_santhosh.ipynb",
      "provenance": [],
      "collapsed_sections": [],
      "authorship_tag": "ABX9TyOTbyHAJoz98hdx6QQvcKA8",
      "include_colab_link": true
    },
    "kernelspec": {
      "name": "python3",
      "display_name": "Python 3"
    },
    "language_info": {
      "name": "python"
    }
  },
  "cells": [
    {
      "cell_type": "markdown",
      "metadata": {
        "id": "view-in-github",
        "colab_type": "text"
      },
      "source": [
        "<a href=\"https://colab.research.google.com/github/SanthoshNagaraj94/ADOPTED-USER-ANALYSIS/blob/main/Assignment_3_santhosh.ipynb\" target=\"_parent\"><img src=\"https://colab.research.google.com/assets/colab-badge.svg\" alt=\"Open In Colab\"/></a>"
      ]
    },
    {
      "cell_type": "markdown",
      "metadata": {
        "id": "YgGVZQ4Q2gNK"
      },
      "source": [
        "IMPORTING NECESSERY LIBRARIES"
      ]
    },
    {
      "cell_type": "code",
      "metadata": {
        "id": "dZhG0S7HiLqB"
      },
      "source": [
        "import pandas as pd\n",
        "import numpy as np\n",
        "import matplotlib.pyplot as plt\n",
        "import seaborn as sns\n",
        "import datetime as dt\n",
        "sns.set()"
      ],
      "execution_count": null,
      "outputs": []
    },
    {
      "cell_type": "markdown",
      "metadata": {
        "id": "ynxhWQ0w2zjt"
      },
      "source": [
        "IMPORTING TAKE HOME USERS DATA USING PD.READ_CSV\n",
        "AND VISUAVALIZE THE HEAD VALUES\n"
      ]
    },
    {
      "cell_type": "code",
      "metadata": {
        "colab": {
          "base_uri": "https://localhost:8080/",
          "height": 289
        },
        "id": "_ZNuOKKZiOUQ",
        "outputId": "25c4af42-098e-405d-aeb8-7da2e33e3013"
      },
      "source": [
        "takehome_users=pd.read_csv('takehome_users.csv', sep=',' , encoding='latin-1')\n",
        "takehome_users.head()"
      ],
      "execution_count": null,
      "outputs": [
        {
          "output_type": "execute_result",
          "data": {
            "text/html": [
              "<div>\n",
              "<style scoped>\n",
              "    .dataframe tbody tr th:only-of-type {\n",
              "        vertical-align: middle;\n",
              "    }\n",
              "\n",
              "    .dataframe tbody tr th {\n",
              "        vertical-align: top;\n",
              "    }\n",
              "\n",
              "    .dataframe thead th {\n",
              "        text-align: right;\n",
              "    }\n",
              "</style>\n",
              "<table border=\"1\" class=\"dataframe\">\n",
              "  <thead>\n",
              "    <tr style=\"text-align: right;\">\n",
              "      <th></th>\n",
              "      <th>object_id</th>\n",
              "      <th>creation_time</th>\n",
              "      <th>name</th>\n",
              "      <th>email</th>\n",
              "      <th>creation_source</th>\n",
              "      <th>last_session_creation_time</th>\n",
              "      <th>opted_in_to_mailing_list</th>\n",
              "      <th>enabled_for_marketing_drip</th>\n",
              "      <th>org_id</th>\n",
              "      <th>invited_by_user_id</th>\n",
              "    </tr>\n",
              "  </thead>\n",
              "  <tbody>\n",
              "    <tr>\n",
              "      <th>0</th>\n",
              "      <td>1</td>\n",
              "      <td>2014-04-22 03:53:30</td>\n",
              "      <td>Clausen August</td>\n",
              "      <td>AugustCClausen@yahoo.com</td>\n",
              "      <td>GUEST_INVITE</td>\n",
              "      <td>1.398139e+09</td>\n",
              "      <td>1</td>\n",
              "      <td>0</td>\n",
              "      <td>11</td>\n",
              "      <td>10803.0</td>\n",
              "    </tr>\n",
              "    <tr>\n",
              "      <th>1</th>\n",
              "      <td>2</td>\n",
              "      <td>2013-11-15 03:45:04</td>\n",
              "      <td>Poole Matthew</td>\n",
              "      <td>MatthewPoole@gustr.com</td>\n",
              "      <td>ORG_INVITE</td>\n",
              "      <td>1.396238e+09</td>\n",
              "      <td>0</td>\n",
              "      <td>0</td>\n",
              "      <td>1</td>\n",
              "      <td>316.0</td>\n",
              "    </tr>\n",
              "    <tr>\n",
              "      <th>2</th>\n",
              "      <td>3</td>\n",
              "      <td>2013-03-19 23:14:52</td>\n",
              "      <td>Bottrill Mitchell</td>\n",
              "      <td>MitchellBottrill@gustr.com</td>\n",
              "      <td>ORG_INVITE</td>\n",
              "      <td>1.363735e+09</td>\n",
              "      <td>0</td>\n",
              "      <td>0</td>\n",
              "      <td>94</td>\n",
              "      <td>1525.0</td>\n",
              "    </tr>\n",
              "    <tr>\n",
              "      <th>3</th>\n",
              "      <td>4</td>\n",
              "      <td>2013-05-21 08:09:28</td>\n",
              "      <td>Clausen Nicklas</td>\n",
              "      <td>NicklasSClausen@yahoo.com</td>\n",
              "      <td>GUEST_INVITE</td>\n",
              "      <td>1.369210e+09</td>\n",
              "      <td>0</td>\n",
              "      <td>0</td>\n",
              "      <td>1</td>\n",
              "      <td>5151.0</td>\n",
              "    </tr>\n",
              "    <tr>\n",
              "      <th>4</th>\n",
              "      <td>5</td>\n",
              "      <td>2013-01-17 10:14:20</td>\n",
              "      <td>Raw Grace</td>\n",
              "      <td>GraceRaw@yahoo.com</td>\n",
              "      <td>GUEST_INVITE</td>\n",
              "      <td>1.358850e+09</td>\n",
              "      <td>0</td>\n",
              "      <td>0</td>\n",
              "      <td>193</td>\n",
              "      <td>5240.0</td>\n",
              "    </tr>\n",
              "  </tbody>\n",
              "</table>\n",
              "</div>"
            ],
            "text/plain": [
              "   object_id        creation_time  ... org_id invited_by_user_id\n",
              "0          1  2014-04-22 03:53:30  ...     11            10803.0\n",
              "1          2  2013-11-15 03:45:04  ...      1              316.0\n",
              "2          3  2013-03-19 23:14:52  ...     94             1525.0\n",
              "3          4  2013-05-21 08:09:28  ...      1             5151.0\n",
              "4          5  2013-01-17 10:14:20  ...    193             5240.0\n",
              "\n",
              "[5 rows x 10 columns]"
            ]
          },
          "metadata": {},
          "execution_count": 168
        }
      ]
    },
    {
      "cell_type": "markdown",
      "metadata": {
        "id": "2QVNeuST3D9U"
      },
      "source": [
        "VISUVALIZE THE INFORMATION OF TAKE HOME USER DATA FRAME USING .INFO()"
      ]
    },
    {
      "cell_type": "code",
      "metadata": {
        "colab": {
          "base_uri": "https://localhost:8080/"
        },
        "id": "vg5smS96xniR",
        "outputId": "e0e970c0-3109-4bcd-cfdb-d2f39207c293"
      },
      "source": [
        "takehome_users.info()"
      ],
      "execution_count": null,
      "outputs": [
        {
          "output_type": "stream",
          "name": "stdout",
          "text": [
            "<class 'pandas.core.frame.DataFrame'>\n",
            "RangeIndex: 12000 entries, 0 to 11999\n",
            "Data columns (total 10 columns):\n",
            " #   Column                      Non-Null Count  Dtype  \n",
            "---  ------                      --------------  -----  \n",
            " 0   object_id                   12000 non-null  int64  \n",
            " 1   creation_time               12000 non-null  object \n",
            " 2   name                        12000 non-null  object \n",
            " 3   email                       12000 non-null  object \n",
            " 4   creation_source             12000 non-null  object \n",
            " 5   last_session_creation_time  8823 non-null   float64\n",
            " 6   opted_in_to_mailing_list    12000 non-null  int64  \n",
            " 7   enabled_for_marketing_drip  12000 non-null  int64  \n",
            " 8   org_id                      12000 non-null  int64  \n",
            " 9   invited_by_user_id          6417 non-null   float64\n",
            "dtypes: float64(2), int64(4), object(4)\n",
            "memory usage: 937.6+ KB\n"
          ]
        }
      ]
    },
    {
      "cell_type": "markdown",
      "metadata": {
        "id": "3A42Qh2S3ZmO"
      },
      "source": [
        "VISUVALIZE THE SHAPE OF TAKE HOME USER DATA FRAME USNING .SHAPE"
      ]
    },
    {
      "cell_type": "code",
      "metadata": {
        "colab": {
          "base_uri": "https://localhost:8080/"
        },
        "id": "luPFc_KCqhuW",
        "outputId": "df1e41a3-87b2-457b-a232-b96f3e802252"
      },
      "source": [
        "takehome_users.shape"
      ],
      "execution_count": null,
      "outputs": [
        {
          "output_type": "execute_result",
          "data": {
            "text/plain": [
              "(12000, 10)"
            ]
          },
          "metadata": {},
          "execution_count": 170
        }
      ]
    },
    {
      "cell_type": "markdown",
      "metadata": {
        "id": "ac3RRvtg3u8u"
      },
      "source": [
        "IMPORTING TAKE HOME USERS ENGAGMENT DATA USING PD.READ_CSV AND VISUAVALIZE THE HEAD VALUES"
      ]
    },
    {
      "cell_type": "code",
      "metadata": {
        "colab": {
          "base_uri": "https://localhost:8080/",
          "height": 204
        },
        "id": "j53tk_HQjuRP",
        "outputId": "f630a10c-cca5-43a9-94e6-2bcf79b0fe9e"
      },
      "source": [
        "takehome_user_engagement=pd.read_csv(\"takehome_user_engagement.csv\")\n",
        "takehome_user_engagement.head()"
      ],
      "execution_count": null,
      "outputs": [
        {
          "output_type": "execute_result",
          "data": {
            "text/html": [
              "<div>\n",
              "<style scoped>\n",
              "    .dataframe tbody tr th:only-of-type {\n",
              "        vertical-align: middle;\n",
              "    }\n",
              "\n",
              "    .dataframe tbody tr th {\n",
              "        vertical-align: top;\n",
              "    }\n",
              "\n",
              "    .dataframe thead th {\n",
              "        text-align: right;\n",
              "    }\n",
              "</style>\n",
              "<table border=\"1\" class=\"dataframe\">\n",
              "  <thead>\n",
              "    <tr style=\"text-align: right;\">\n",
              "      <th></th>\n",
              "      <th>time_stamp</th>\n",
              "      <th>user_id</th>\n",
              "      <th>visited</th>\n",
              "    </tr>\n",
              "  </thead>\n",
              "  <tbody>\n",
              "    <tr>\n",
              "      <th>0</th>\n",
              "      <td>2014-04-22 03:53:30</td>\n",
              "      <td>1</td>\n",
              "      <td>1</td>\n",
              "    </tr>\n",
              "    <tr>\n",
              "      <th>1</th>\n",
              "      <td>2013-11-15 03:45:04</td>\n",
              "      <td>2</td>\n",
              "      <td>1</td>\n",
              "    </tr>\n",
              "    <tr>\n",
              "      <th>2</th>\n",
              "      <td>2013-11-29 03:45:04</td>\n",
              "      <td>2</td>\n",
              "      <td>1</td>\n",
              "    </tr>\n",
              "    <tr>\n",
              "      <th>3</th>\n",
              "      <td>2013-12-09 03:45:04</td>\n",
              "      <td>2</td>\n",
              "      <td>1</td>\n",
              "    </tr>\n",
              "    <tr>\n",
              "      <th>4</th>\n",
              "      <td>2013-12-25 03:45:04</td>\n",
              "      <td>2</td>\n",
              "      <td>1</td>\n",
              "    </tr>\n",
              "  </tbody>\n",
              "</table>\n",
              "</div>"
            ],
            "text/plain": [
              "            time_stamp  user_id  visited\n",
              "0  2014-04-22 03:53:30        1        1\n",
              "1  2013-11-15 03:45:04        2        1\n",
              "2  2013-11-29 03:45:04        2        1\n",
              "3  2013-12-09 03:45:04        2        1\n",
              "4  2013-12-25 03:45:04        2        1"
            ]
          },
          "metadata": {},
          "execution_count": 171
        }
      ]
    },
    {
      "cell_type": "markdown",
      "metadata": {
        "id": "HO6f8qKz35u4"
      },
      "source": [
        "GROUP BY USER ID AND COUNT THE NUMBER OF VISITED BY INDIDUAL USERS"
      ]
    },
    {
      "cell_type": "code",
      "metadata": {
        "colab": {
          "base_uri": "https://localhost:8080/"
        },
        "id": "P061KNirj8w1",
        "outputId": "202bf649-1923-4a67-e492-28bafa95e09c"
      },
      "source": [
        "con=takehome_user_engagement.groupby(\"user_id\")['visited'].sum()\n",
        "con.head()"
      ],
      "execution_count": null,
      "outputs": [
        {
          "output_type": "execute_result",
          "data": {
            "text/plain": [
              "user_id\n",
              "1     1\n",
              "2    14\n",
              "3     1\n",
              "4     1\n",
              "5     1\n",
              "Name: visited, dtype: int64"
            ]
          },
          "metadata": {},
          "execution_count": 172
        }
      ]
    },
    {
      "cell_type": "code",
      "metadata": {
        "id": "E-rfNynKpVzP"
      },
      "source": [
        "con.to_csv(\"NO-OF TIMES USER VISITED.csv\")"
      ],
      "execution_count": null,
      "outputs": []
    },
    {
      "cell_type": "code",
      "metadata": {
        "id": "mQLdVtW1wagq"
      },
      "source": [
        "counts=pd.read_csv('NO-OF TIMES USER VISITED.csv')"
      ],
      "execution_count": null,
      "outputs": []
    },
    {
      "cell_type": "code",
      "metadata": {
        "colab": {
          "base_uri": "https://localhost:8080/",
          "height": 359
        },
        "id": "3WStKtuOwjyY",
        "outputId": "4c3269cb-17f0-425f-f7dd-8394124e0778"
      },
      "source": [
        "counts.head(10)"
      ],
      "execution_count": null,
      "outputs": [
        {
          "output_type": "execute_result",
          "data": {
            "text/html": [
              "<div>\n",
              "<style scoped>\n",
              "    .dataframe tbody tr th:only-of-type {\n",
              "        vertical-align: middle;\n",
              "    }\n",
              "\n",
              "    .dataframe tbody tr th {\n",
              "        vertical-align: top;\n",
              "    }\n",
              "\n",
              "    .dataframe thead th {\n",
              "        text-align: right;\n",
              "    }\n",
              "</style>\n",
              "<table border=\"1\" class=\"dataframe\">\n",
              "  <thead>\n",
              "    <tr style=\"text-align: right;\">\n",
              "      <th></th>\n",
              "      <th>user_id</th>\n",
              "      <th>visited</th>\n",
              "    </tr>\n",
              "  </thead>\n",
              "  <tbody>\n",
              "    <tr>\n",
              "      <th>0</th>\n",
              "      <td>1</td>\n",
              "      <td>1</td>\n",
              "    </tr>\n",
              "    <tr>\n",
              "      <th>1</th>\n",
              "      <td>2</td>\n",
              "      <td>14</td>\n",
              "    </tr>\n",
              "    <tr>\n",
              "      <th>2</th>\n",
              "      <td>3</td>\n",
              "      <td>1</td>\n",
              "    </tr>\n",
              "    <tr>\n",
              "      <th>3</th>\n",
              "      <td>4</td>\n",
              "      <td>1</td>\n",
              "    </tr>\n",
              "    <tr>\n",
              "      <th>4</th>\n",
              "      <td>5</td>\n",
              "      <td>1</td>\n",
              "    </tr>\n",
              "    <tr>\n",
              "      <th>5</th>\n",
              "      <td>6</td>\n",
              "      <td>1</td>\n",
              "    </tr>\n",
              "    <tr>\n",
              "      <th>6</th>\n",
              "      <td>7</td>\n",
              "      <td>1</td>\n",
              "    </tr>\n",
              "    <tr>\n",
              "      <th>7</th>\n",
              "      <td>10</td>\n",
              "      <td>284</td>\n",
              "    </tr>\n",
              "    <tr>\n",
              "      <th>8</th>\n",
              "      <td>11</td>\n",
              "      <td>1</td>\n",
              "    </tr>\n",
              "    <tr>\n",
              "      <th>9</th>\n",
              "      <td>13</td>\n",
              "      <td>1</td>\n",
              "    </tr>\n",
              "  </tbody>\n",
              "</table>\n",
              "</div>"
            ],
            "text/plain": [
              "   user_id  visited\n",
              "0        1        1\n",
              "1        2       14\n",
              "2        3        1\n",
              "3        4        1\n",
              "4        5        1\n",
              "5        6        1\n",
              "6        7        1\n",
              "7       10      284\n",
              "8       11        1\n",
              "9       13        1"
            ]
          },
          "metadata": {},
          "execution_count": 175
        }
      ]
    },
    {
      "cell_type": "markdown",
      "metadata": {
        "id": "X1P_G1WY4LAe"
      },
      "source": [
        "CHANGE THE OBJECT_ID TO USER_ID"
      ]
    },
    {
      "cell_type": "code",
      "metadata": {
        "id": "EgZh4XHK4_sh"
      },
      "source": [
        "takehome_users.rename({\"object_id\": \"user_id\"}, axis='columns',inplace=True)"
      ],
      "execution_count": null,
      "outputs": []
    },
    {
      "cell_type": "code",
      "metadata": {
        "colab": {
          "base_uri": "https://localhost:8080/",
          "height": 609
        },
        "id": "Wk36gtah5CIQ",
        "outputId": "a210a0a4-c3a3-4028-8c65-77d91d41c088"
      },
      "source": [
        "takehome_users"
      ],
      "execution_count": null,
      "outputs": [
        {
          "output_type": "execute_result",
          "data": {
            "text/html": [
              "<div>\n",
              "<style scoped>\n",
              "    .dataframe tbody tr th:only-of-type {\n",
              "        vertical-align: middle;\n",
              "    }\n",
              "\n",
              "    .dataframe tbody tr th {\n",
              "        vertical-align: top;\n",
              "    }\n",
              "\n",
              "    .dataframe thead th {\n",
              "        text-align: right;\n",
              "    }\n",
              "</style>\n",
              "<table border=\"1\" class=\"dataframe\">\n",
              "  <thead>\n",
              "    <tr style=\"text-align: right;\">\n",
              "      <th></th>\n",
              "      <th>user_id</th>\n",
              "      <th>creation_time</th>\n",
              "      <th>name</th>\n",
              "      <th>email</th>\n",
              "      <th>creation_source</th>\n",
              "      <th>last_session_creation_time</th>\n",
              "      <th>opted_in_to_mailing_list</th>\n",
              "      <th>enabled_for_marketing_drip</th>\n",
              "      <th>org_id</th>\n",
              "      <th>invited_by_user_id</th>\n",
              "    </tr>\n",
              "  </thead>\n",
              "  <tbody>\n",
              "    <tr>\n",
              "      <th>0</th>\n",
              "      <td>1</td>\n",
              "      <td>2014-04-22 03:53:30</td>\n",
              "      <td>Clausen August</td>\n",
              "      <td>AugustCClausen@yahoo.com</td>\n",
              "      <td>GUEST_INVITE</td>\n",
              "      <td>1.398139e+09</td>\n",
              "      <td>1</td>\n",
              "      <td>0</td>\n",
              "      <td>11</td>\n",
              "      <td>10803.0</td>\n",
              "    </tr>\n",
              "    <tr>\n",
              "      <th>1</th>\n",
              "      <td>2</td>\n",
              "      <td>2013-11-15 03:45:04</td>\n",
              "      <td>Poole Matthew</td>\n",
              "      <td>MatthewPoole@gustr.com</td>\n",
              "      <td>ORG_INVITE</td>\n",
              "      <td>1.396238e+09</td>\n",
              "      <td>0</td>\n",
              "      <td>0</td>\n",
              "      <td>1</td>\n",
              "      <td>316.0</td>\n",
              "    </tr>\n",
              "    <tr>\n",
              "      <th>2</th>\n",
              "      <td>3</td>\n",
              "      <td>2013-03-19 23:14:52</td>\n",
              "      <td>Bottrill Mitchell</td>\n",
              "      <td>MitchellBottrill@gustr.com</td>\n",
              "      <td>ORG_INVITE</td>\n",
              "      <td>1.363735e+09</td>\n",
              "      <td>0</td>\n",
              "      <td>0</td>\n",
              "      <td>94</td>\n",
              "      <td>1525.0</td>\n",
              "    </tr>\n",
              "    <tr>\n",
              "      <th>3</th>\n",
              "      <td>4</td>\n",
              "      <td>2013-05-21 08:09:28</td>\n",
              "      <td>Clausen Nicklas</td>\n",
              "      <td>NicklasSClausen@yahoo.com</td>\n",
              "      <td>GUEST_INVITE</td>\n",
              "      <td>1.369210e+09</td>\n",
              "      <td>0</td>\n",
              "      <td>0</td>\n",
              "      <td>1</td>\n",
              "      <td>5151.0</td>\n",
              "    </tr>\n",
              "    <tr>\n",
              "      <th>4</th>\n",
              "      <td>5</td>\n",
              "      <td>2013-01-17 10:14:20</td>\n",
              "      <td>Raw Grace</td>\n",
              "      <td>GraceRaw@yahoo.com</td>\n",
              "      <td>GUEST_INVITE</td>\n",
              "      <td>1.358850e+09</td>\n",
              "      <td>0</td>\n",
              "      <td>0</td>\n",
              "      <td>193</td>\n",
              "      <td>5240.0</td>\n",
              "    </tr>\n",
              "    <tr>\n",
              "      <th>...</th>\n",
              "      <td>...</td>\n",
              "      <td>...</td>\n",
              "      <td>...</td>\n",
              "      <td>...</td>\n",
              "      <td>...</td>\n",
              "      <td>...</td>\n",
              "      <td>...</td>\n",
              "      <td>...</td>\n",
              "      <td>...</td>\n",
              "      <td>...</td>\n",
              "    </tr>\n",
              "    <tr>\n",
              "      <th>11995</th>\n",
              "      <td>11996</td>\n",
              "      <td>2013-09-06 06:14:15</td>\n",
              "      <td>Meier Sophia</td>\n",
              "      <td>SophiaMeier@gustr.com</td>\n",
              "      <td>ORG_INVITE</td>\n",
              "      <td>1.378448e+09</td>\n",
              "      <td>0</td>\n",
              "      <td>0</td>\n",
              "      <td>89</td>\n",
              "      <td>8263.0</td>\n",
              "    </tr>\n",
              "    <tr>\n",
              "      <th>11996</th>\n",
              "      <td>11997</td>\n",
              "      <td>2013-01-10 18:28:37</td>\n",
              "      <td>Fisher Amelie</td>\n",
              "      <td>AmelieFisher@gmail.com</td>\n",
              "      <td>SIGNUP_GOOGLE_AUTH</td>\n",
              "      <td>1.358275e+09</td>\n",
              "      <td>0</td>\n",
              "      <td>0</td>\n",
              "      <td>200</td>\n",
              "      <td>NaN</td>\n",
              "    </tr>\n",
              "    <tr>\n",
              "      <th>11997</th>\n",
              "      <td>11998</td>\n",
              "      <td>2014-04-27 12:45:16</td>\n",
              "      <td>Haynes Jake</td>\n",
              "      <td>JakeHaynes@cuvox.de</td>\n",
              "      <td>GUEST_INVITE</td>\n",
              "      <td>1.398603e+09</td>\n",
              "      <td>1</td>\n",
              "      <td>1</td>\n",
              "      <td>83</td>\n",
              "      <td>8074.0</td>\n",
              "    </tr>\n",
              "    <tr>\n",
              "      <th>11998</th>\n",
              "      <td>11999</td>\n",
              "      <td>2012-05-31 11:55:59</td>\n",
              "      <td>Faber Annett</td>\n",
              "      <td>mhaerzxp@iuxiw.com</td>\n",
              "      <td>PERSONAL_PROJECTS</td>\n",
              "      <td>1.338638e+09</td>\n",
              "      <td>0</td>\n",
              "      <td>0</td>\n",
              "      <td>6</td>\n",
              "      <td>NaN</td>\n",
              "    </tr>\n",
              "    <tr>\n",
              "      <th>11999</th>\n",
              "      <td>12000</td>\n",
              "      <td>2014-01-26 08:57:12</td>\n",
              "      <td>Lima Thaís</td>\n",
              "      <td>ThaisMeloLima@hotmail.com</td>\n",
              "      <td>SIGNUP</td>\n",
              "      <td>1.390727e+09</td>\n",
              "      <td>0</td>\n",
              "      <td>1</td>\n",
              "      <td>0</td>\n",
              "      <td>NaN</td>\n",
              "    </tr>\n",
              "  </tbody>\n",
              "</table>\n",
              "<p>12000 rows × 10 columns</p>\n",
              "</div>"
            ],
            "text/plain": [
              "       user_id        creation_time  ... org_id invited_by_user_id\n",
              "0            1  2014-04-22 03:53:30  ...     11            10803.0\n",
              "1            2  2013-11-15 03:45:04  ...      1              316.0\n",
              "2            3  2013-03-19 23:14:52  ...     94             1525.0\n",
              "3            4  2013-05-21 08:09:28  ...      1             5151.0\n",
              "4            5  2013-01-17 10:14:20  ...    193             5240.0\n",
              "...        ...                  ...  ...    ...                ...\n",
              "11995    11996  2013-09-06 06:14:15  ...     89             8263.0\n",
              "11996    11997  2013-01-10 18:28:37  ...    200                NaN\n",
              "11997    11998  2014-04-27 12:45:16  ...     83             8074.0\n",
              "11998    11999  2012-05-31 11:55:59  ...      6                NaN\n",
              "11999    12000  2014-01-26 08:57:12  ...      0                NaN\n",
              "\n",
              "[12000 rows x 10 columns]"
            ]
          },
          "metadata": {},
          "execution_count": 177
        }
      ]
    },
    {
      "cell_type": "markdown",
      "metadata": {
        "id": "eOgTg1Qz4Uyk"
      },
      "source": [
        "MERGING THE TAKE HOME USER ENGAGMENT FREQUENCEY TO TAKE HOME USER TABLE BY MERGE FUNCTION"
      ]
    },
    {
      "cell_type": "code",
      "metadata": {
        "id": "l_9fwKWM5d74"
      },
      "source": [
        "new_data=pd.merge(takehome_users,counts, on='user_id',how='outer')\n"
      ],
      "execution_count": null,
      "outputs": []
    },
    {
      "cell_type": "code",
      "metadata": {
        "colab": {
          "base_uri": "https://localhost:8080/",
          "height": 549
        },
        "id": "Ii8W-YkdGeWU",
        "outputId": "1bdcfd9c-288f-42d6-9de3-a83e0afe30f3"
      },
      "source": [
        "new_data.head(10)"
      ],
      "execution_count": null,
      "outputs": [
        {
          "output_type": "execute_result",
          "data": {
            "text/html": [
              "<div>\n",
              "<style scoped>\n",
              "    .dataframe tbody tr th:only-of-type {\n",
              "        vertical-align: middle;\n",
              "    }\n",
              "\n",
              "    .dataframe tbody tr th {\n",
              "        vertical-align: top;\n",
              "    }\n",
              "\n",
              "    .dataframe thead th {\n",
              "        text-align: right;\n",
              "    }\n",
              "</style>\n",
              "<table border=\"1\" class=\"dataframe\">\n",
              "  <thead>\n",
              "    <tr style=\"text-align: right;\">\n",
              "      <th></th>\n",
              "      <th>user_id</th>\n",
              "      <th>creation_time</th>\n",
              "      <th>name</th>\n",
              "      <th>email</th>\n",
              "      <th>creation_source</th>\n",
              "      <th>last_session_creation_time</th>\n",
              "      <th>opted_in_to_mailing_list</th>\n",
              "      <th>enabled_for_marketing_drip</th>\n",
              "      <th>org_id</th>\n",
              "      <th>invited_by_user_id</th>\n",
              "      <th>visited</th>\n",
              "    </tr>\n",
              "  </thead>\n",
              "  <tbody>\n",
              "    <tr>\n",
              "      <th>0</th>\n",
              "      <td>1</td>\n",
              "      <td>2014-04-22 03:53:30</td>\n",
              "      <td>Clausen August</td>\n",
              "      <td>AugustCClausen@yahoo.com</td>\n",
              "      <td>GUEST_INVITE</td>\n",
              "      <td>1.398139e+09</td>\n",
              "      <td>1</td>\n",
              "      <td>0</td>\n",
              "      <td>11</td>\n",
              "      <td>10803.0</td>\n",
              "      <td>1.0</td>\n",
              "    </tr>\n",
              "    <tr>\n",
              "      <th>1</th>\n",
              "      <td>2</td>\n",
              "      <td>2013-11-15 03:45:04</td>\n",
              "      <td>Poole Matthew</td>\n",
              "      <td>MatthewPoole@gustr.com</td>\n",
              "      <td>ORG_INVITE</td>\n",
              "      <td>1.396238e+09</td>\n",
              "      <td>0</td>\n",
              "      <td>0</td>\n",
              "      <td>1</td>\n",
              "      <td>316.0</td>\n",
              "      <td>14.0</td>\n",
              "    </tr>\n",
              "    <tr>\n",
              "      <th>2</th>\n",
              "      <td>3</td>\n",
              "      <td>2013-03-19 23:14:52</td>\n",
              "      <td>Bottrill Mitchell</td>\n",
              "      <td>MitchellBottrill@gustr.com</td>\n",
              "      <td>ORG_INVITE</td>\n",
              "      <td>1.363735e+09</td>\n",
              "      <td>0</td>\n",
              "      <td>0</td>\n",
              "      <td>94</td>\n",
              "      <td>1525.0</td>\n",
              "      <td>1.0</td>\n",
              "    </tr>\n",
              "    <tr>\n",
              "      <th>3</th>\n",
              "      <td>4</td>\n",
              "      <td>2013-05-21 08:09:28</td>\n",
              "      <td>Clausen Nicklas</td>\n",
              "      <td>NicklasSClausen@yahoo.com</td>\n",
              "      <td>GUEST_INVITE</td>\n",
              "      <td>1.369210e+09</td>\n",
              "      <td>0</td>\n",
              "      <td>0</td>\n",
              "      <td>1</td>\n",
              "      <td>5151.0</td>\n",
              "      <td>1.0</td>\n",
              "    </tr>\n",
              "    <tr>\n",
              "      <th>4</th>\n",
              "      <td>5</td>\n",
              "      <td>2013-01-17 10:14:20</td>\n",
              "      <td>Raw Grace</td>\n",
              "      <td>GraceRaw@yahoo.com</td>\n",
              "      <td>GUEST_INVITE</td>\n",
              "      <td>1.358850e+09</td>\n",
              "      <td>0</td>\n",
              "      <td>0</td>\n",
              "      <td>193</td>\n",
              "      <td>5240.0</td>\n",
              "      <td>1.0</td>\n",
              "    </tr>\n",
              "    <tr>\n",
              "      <th>5</th>\n",
              "      <td>6</td>\n",
              "      <td>2013-12-17 03:37:06</td>\n",
              "      <td>Cunha Eduardo</td>\n",
              "      <td>EduardoPereiraCunha@yahoo.com</td>\n",
              "      <td>GUEST_INVITE</td>\n",
              "      <td>1.387424e+09</td>\n",
              "      <td>0</td>\n",
              "      <td>0</td>\n",
              "      <td>197</td>\n",
              "      <td>11241.0</td>\n",
              "      <td>1.0</td>\n",
              "    </tr>\n",
              "    <tr>\n",
              "      <th>6</th>\n",
              "      <td>7</td>\n",
              "      <td>2012-12-16 13:24:32</td>\n",
              "      <td>Sewell Tyler</td>\n",
              "      <td>TylerSewell@jourrapide.com</td>\n",
              "      <td>SIGNUP</td>\n",
              "      <td>1.356010e+09</td>\n",
              "      <td>0</td>\n",
              "      <td>1</td>\n",
              "      <td>37</td>\n",
              "      <td>NaN</td>\n",
              "      <td>1.0</td>\n",
              "    </tr>\n",
              "    <tr>\n",
              "      <th>7</th>\n",
              "      <td>8</td>\n",
              "      <td>2013-07-31 05:34:02</td>\n",
              "      <td>Hamilton Danielle</td>\n",
              "      <td>DanielleHamilton@yahoo.com</td>\n",
              "      <td>PERSONAL_PROJECTS</td>\n",
              "      <td>NaN</td>\n",
              "      <td>1</td>\n",
              "      <td>1</td>\n",
              "      <td>74</td>\n",
              "      <td>NaN</td>\n",
              "      <td>NaN</td>\n",
              "    </tr>\n",
              "    <tr>\n",
              "      <th>8</th>\n",
              "      <td>9</td>\n",
              "      <td>2013-11-05 04:04:24</td>\n",
              "      <td>Amsel Paul</td>\n",
              "      <td>PaulAmsel@hotmail.com</td>\n",
              "      <td>PERSONAL_PROJECTS</td>\n",
              "      <td>NaN</td>\n",
              "      <td>0</td>\n",
              "      <td>0</td>\n",
              "      <td>302</td>\n",
              "      <td>NaN</td>\n",
              "      <td>NaN</td>\n",
              "    </tr>\n",
              "    <tr>\n",
              "      <th>9</th>\n",
              "      <td>10</td>\n",
              "      <td>2013-01-16 22:08:03</td>\n",
              "      <td>Santos Carla</td>\n",
              "      <td>CarlaFerreiraSantos@gustr.com</td>\n",
              "      <td>ORG_INVITE</td>\n",
              "      <td>1.401833e+09</td>\n",
              "      <td>1</td>\n",
              "      <td>1</td>\n",
              "      <td>318</td>\n",
              "      <td>4143.0</td>\n",
              "      <td>284.0</td>\n",
              "    </tr>\n",
              "  </tbody>\n",
              "</table>\n",
              "</div>"
            ],
            "text/plain": [
              "   user_id        creation_time  ... invited_by_user_id visited\n",
              "0        1  2014-04-22 03:53:30  ...            10803.0     1.0\n",
              "1        2  2013-11-15 03:45:04  ...              316.0    14.0\n",
              "2        3  2013-03-19 23:14:52  ...             1525.0     1.0\n",
              "3        4  2013-05-21 08:09:28  ...             5151.0     1.0\n",
              "4        5  2013-01-17 10:14:20  ...             5240.0     1.0\n",
              "5        6  2013-12-17 03:37:06  ...            11241.0     1.0\n",
              "6        7  2012-12-16 13:24:32  ...                NaN     1.0\n",
              "7        8  2013-07-31 05:34:02  ...                NaN     NaN\n",
              "8        9  2013-11-05 04:04:24  ...                NaN     NaN\n",
              "9       10  2013-01-16 22:08:03  ...             4143.0   284.0\n",
              "\n",
              "[10 rows x 11 columns]"
            ]
          },
          "metadata": {},
          "execution_count": 179
        }
      ]
    },
    {
      "cell_type": "code",
      "metadata": {
        "colab": {
          "base_uri": "https://localhost:8080/"
        },
        "id": "p6Qfohz5GgtK",
        "outputId": "d842208c-2674-4f08-e5ce-59597e5e985d"
      },
      "source": [
        "new_data.dtypes"
      ],
      "execution_count": null,
      "outputs": [
        {
          "output_type": "execute_result",
          "data": {
            "text/plain": [
              "user_id                         int64\n",
              "creation_time                  object\n",
              "name                           object\n",
              "email                          object\n",
              "creation_source                object\n",
              "last_session_creation_time    float64\n",
              "opted_in_to_mailing_list        int64\n",
              "enabled_for_marketing_drip      int64\n",
              "org_id                          int64\n",
              "invited_by_user_id            float64\n",
              "visited                       float64\n",
              "dtype: object"
            ]
          },
          "metadata": {},
          "execution_count": 180
        }
      ]
    },
    {
      "cell_type": "code",
      "metadata": {
        "colab": {
          "base_uri": "https://localhost:8080/"
        },
        "id": "Z9Htb_LTHG7I",
        "outputId": "a34e27eb-3bce-4add-e847-a438fe469ee2"
      },
      "source": [
        "new_data.isna().sum()"
      ],
      "execution_count": null,
      "outputs": [
        {
          "output_type": "execute_result",
          "data": {
            "text/plain": [
              "user_id                          0\n",
              "creation_time                    0\n",
              "name                             0\n",
              "email                            0\n",
              "creation_source                  0\n",
              "last_session_creation_time    3177\n",
              "opted_in_to_mailing_list         0\n",
              "enabled_for_marketing_drip       0\n",
              "org_id                           0\n",
              "invited_by_user_id            5583\n",
              "visited                       3177\n",
              "dtype: int64"
            ]
          },
          "metadata": {},
          "execution_count": 181
        }
      ]
    },
    {
      "cell_type": "markdown",
      "metadata": {
        "id": "h9-OheLO4rMh"
      },
      "source": [
        "FILLING 0 IN THE NaN VALUES"
      ]
    },
    {
      "cell_type": "code",
      "metadata": {
        "id": "MebT3HDCHg3_"
      },
      "source": [
        "new_data.fillna(0,inplace=True)"
      ],
      "execution_count": null,
      "outputs": []
    },
    {
      "cell_type": "code",
      "metadata": {
        "id": "ZvQN-OmrIY5t"
      },
      "source": [
        "new_data['visited']=new_data['visited'].astype('int64')"
      ],
      "execution_count": null,
      "outputs": []
    },
    {
      "cell_type": "code",
      "metadata": {
        "colab": {
          "base_uri": "https://localhost:8080/",
          "height": 309
        },
        "id": "fgYcc8giJmOq",
        "outputId": "b580e74c-e63a-4cc9-ce54-fb428d75694b"
      },
      "source": [
        "new_data.head()"
      ],
      "execution_count": null,
      "outputs": [
        {
          "output_type": "execute_result",
          "data": {
            "text/html": [
              "<div>\n",
              "<style scoped>\n",
              "    .dataframe tbody tr th:only-of-type {\n",
              "        vertical-align: middle;\n",
              "    }\n",
              "\n",
              "    .dataframe tbody tr th {\n",
              "        vertical-align: top;\n",
              "    }\n",
              "\n",
              "    .dataframe thead th {\n",
              "        text-align: right;\n",
              "    }\n",
              "</style>\n",
              "<table border=\"1\" class=\"dataframe\">\n",
              "  <thead>\n",
              "    <tr style=\"text-align: right;\">\n",
              "      <th></th>\n",
              "      <th>user_id</th>\n",
              "      <th>creation_time</th>\n",
              "      <th>name</th>\n",
              "      <th>email</th>\n",
              "      <th>creation_source</th>\n",
              "      <th>last_session_creation_time</th>\n",
              "      <th>opted_in_to_mailing_list</th>\n",
              "      <th>enabled_for_marketing_drip</th>\n",
              "      <th>org_id</th>\n",
              "      <th>invited_by_user_id</th>\n",
              "      <th>visited</th>\n",
              "    </tr>\n",
              "  </thead>\n",
              "  <tbody>\n",
              "    <tr>\n",
              "      <th>0</th>\n",
              "      <td>1</td>\n",
              "      <td>2014-04-22 03:53:30</td>\n",
              "      <td>Clausen August</td>\n",
              "      <td>AugustCClausen@yahoo.com</td>\n",
              "      <td>GUEST_INVITE</td>\n",
              "      <td>1.398139e+09</td>\n",
              "      <td>1</td>\n",
              "      <td>0</td>\n",
              "      <td>11</td>\n",
              "      <td>10803.0</td>\n",
              "      <td>1</td>\n",
              "    </tr>\n",
              "    <tr>\n",
              "      <th>1</th>\n",
              "      <td>2</td>\n",
              "      <td>2013-11-15 03:45:04</td>\n",
              "      <td>Poole Matthew</td>\n",
              "      <td>MatthewPoole@gustr.com</td>\n",
              "      <td>ORG_INVITE</td>\n",
              "      <td>1.396238e+09</td>\n",
              "      <td>0</td>\n",
              "      <td>0</td>\n",
              "      <td>1</td>\n",
              "      <td>316.0</td>\n",
              "      <td>14</td>\n",
              "    </tr>\n",
              "    <tr>\n",
              "      <th>2</th>\n",
              "      <td>3</td>\n",
              "      <td>2013-03-19 23:14:52</td>\n",
              "      <td>Bottrill Mitchell</td>\n",
              "      <td>MitchellBottrill@gustr.com</td>\n",
              "      <td>ORG_INVITE</td>\n",
              "      <td>1.363735e+09</td>\n",
              "      <td>0</td>\n",
              "      <td>0</td>\n",
              "      <td>94</td>\n",
              "      <td>1525.0</td>\n",
              "      <td>1</td>\n",
              "    </tr>\n",
              "    <tr>\n",
              "      <th>3</th>\n",
              "      <td>4</td>\n",
              "      <td>2013-05-21 08:09:28</td>\n",
              "      <td>Clausen Nicklas</td>\n",
              "      <td>NicklasSClausen@yahoo.com</td>\n",
              "      <td>GUEST_INVITE</td>\n",
              "      <td>1.369210e+09</td>\n",
              "      <td>0</td>\n",
              "      <td>0</td>\n",
              "      <td>1</td>\n",
              "      <td>5151.0</td>\n",
              "      <td>1</td>\n",
              "    </tr>\n",
              "    <tr>\n",
              "      <th>4</th>\n",
              "      <td>5</td>\n",
              "      <td>2013-01-17 10:14:20</td>\n",
              "      <td>Raw Grace</td>\n",
              "      <td>GraceRaw@yahoo.com</td>\n",
              "      <td>GUEST_INVITE</td>\n",
              "      <td>1.358850e+09</td>\n",
              "      <td>0</td>\n",
              "      <td>0</td>\n",
              "      <td>193</td>\n",
              "      <td>5240.0</td>\n",
              "      <td>1</td>\n",
              "    </tr>\n",
              "  </tbody>\n",
              "</table>\n",
              "</div>"
            ],
            "text/plain": [
              "   user_id        creation_time  ... invited_by_user_id visited\n",
              "0        1  2014-04-22 03:53:30  ...            10803.0       1\n",
              "1        2  2013-11-15 03:45:04  ...              316.0      14\n",
              "2        3  2013-03-19 23:14:52  ...             1525.0       1\n",
              "3        4  2013-05-21 08:09:28  ...             5151.0       1\n",
              "4        5  2013-01-17 10:14:20  ...             5240.0       1\n",
              "\n",
              "[5 rows x 11 columns]"
            ]
          },
          "metadata": {},
          "execution_count": 184
        }
      ]
    },
    {
      "cell_type": "code",
      "metadata": {
        "colab": {
          "base_uri": "https://localhost:8080/",
          "height": 204
        },
        "id": "9CbkRdasJ0J4",
        "outputId": "d2a8d72c-eba2-432d-ffa4-494c385d973a"
      },
      "source": [
        "takehome_user_engagement.head()"
      ],
      "execution_count": null,
      "outputs": [
        {
          "output_type": "execute_result",
          "data": {
            "text/html": [
              "<div>\n",
              "<style scoped>\n",
              "    .dataframe tbody tr th:only-of-type {\n",
              "        vertical-align: middle;\n",
              "    }\n",
              "\n",
              "    .dataframe tbody tr th {\n",
              "        vertical-align: top;\n",
              "    }\n",
              "\n",
              "    .dataframe thead th {\n",
              "        text-align: right;\n",
              "    }\n",
              "</style>\n",
              "<table border=\"1\" class=\"dataframe\">\n",
              "  <thead>\n",
              "    <tr style=\"text-align: right;\">\n",
              "      <th></th>\n",
              "      <th>time_stamp</th>\n",
              "      <th>user_id</th>\n",
              "      <th>visited</th>\n",
              "    </tr>\n",
              "  </thead>\n",
              "  <tbody>\n",
              "    <tr>\n",
              "      <th>0</th>\n",
              "      <td>2014-04-22 03:53:30</td>\n",
              "      <td>1</td>\n",
              "      <td>1</td>\n",
              "    </tr>\n",
              "    <tr>\n",
              "      <th>1</th>\n",
              "      <td>2013-11-15 03:45:04</td>\n",
              "      <td>2</td>\n",
              "      <td>1</td>\n",
              "    </tr>\n",
              "    <tr>\n",
              "      <th>2</th>\n",
              "      <td>2013-11-29 03:45:04</td>\n",
              "      <td>2</td>\n",
              "      <td>1</td>\n",
              "    </tr>\n",
              "    <tr>\n",
              "      <th>3</th>\n",
              "      <td>2013-12-09 03:45:04</td>\n",
              "      <td>2</td>\n",
              "      <td>1</td>\n",
              "    </tr>\n",
              "    <tr>\n",
              "      <th>4</th>\n",
              "      <td>2013-12-25 03:45:04</td>\n",
              "      <td>2</td>\n",
              "      <td>1</td>\n",
              "    </tr>\n",
              "  </tbody>\n",
              "</table>\n",
              "</div>"
            ],
            "text/plain": [
              "            time_stamp  user_id  visited\n",
              "0  2014-04-22 03:53:30        1        1\n",
              "1  2013-11-15 03:45:04        2        1\n",
              "2  2013-11-29 03:45:04        2        1\n",
              "3  2013-12-09 03:45:04        2        1\n",
              "4  2013-12-25 03:45:04        2        1"
            ]
          },
          "metadata": {},
          "execution_count": 185
        }
      ]
    },
    {
      "cell_type": "markdown",
      "metadata": {
        "id": "DMT0eZxF42Nk"
      },
      "source": [
        "CONVERTING THE TIME STAMP INTO DAY, MONTH ,YEAR AND WEEK"
      ]
    },
    {
      "cell_type": "code",
      "metadata": {
        "id": "Ei1zJp-yQiAd"
      },
      "source": [
        "takehome_user_engagement['Date']=pd.DatetimeIndex(takehome_user_engagement.time_stamp).day"
      ],
      "execution_count": null,
      "outputs": []
    },
    {
      "cell_type": "code",
      "metadata": {
        "colab": {
          "base_uri": "https://localhost:8080/"
        },
        "id": "nlqMGZAJQ2b8",
        "outputId": "fc2347fa-d7a8-4402-bc9c-30e51ce9557e"
      },
      "source": [
        "takehome_user_engagement['Month']=pd.DatetimeIndex(takehome_user_engagement.time_stamp).month\n",
        "takehome_user_engagement['Year']=pd.DatetimeIndex(takehome_user_engagement.time_stamp).year.astype('object')\n",
        "takehome_user_engagement['Week']=pd.DatetimeIndex(takehome_user_engagement.time_stamp).week.astype('object')\n"
      ],
      "execution_count": null,
      "outputs": [
        {
          "output_type": "stream",
          "name": "stderr",
          "text": [
            "/usr/local/lib/python3.7/dist-packages/ipykernel_launcher.py:3: FutureWarning: weekofyear and week have been deprecated, please use DatetimeIndex.isocalendar().week instead, which returns a Series.  To exactly reproduce the behavior of week and weekofyear and return an Index, you may call pd.Int64Index(idx.isocalendar().week)\n",
            "  This is separate from the ipykernel package so we can avoid doing imports until\n"
          ]
        }
      ]
    },
    {
      "cell_type": "markdown",
      "metadata": {
        "id": "Ej6TvNYW5KP8"
      },
      "source": [
        "CONVERTED TABLE SAVE INTO DATE1.CSV"
      ]
    },
    {
      "cell_type": "code",
      "metadata": {
        "id": "1TijiOu9SCgR"
      },
      "source": [
        "takehome_user_engagement.to_csv(\"Date1.csv\")\n"
      ],
      "execution_count": null,
      "outputs": []
    },
    {
      "cell_type": "code",
      "metadata": {
        "colab": {
          "base_uri": "https://localhost:8080/",
          "height": 204
        },
        "id": "mctbK-eea5kw",
        "outputId": "ad9e97cf-5c4b-454a-c226-fb17e4dde7c6"
      },
      "source": [
        "takehome_user_engagement.head()"
      ],
      "execution_count": null,
      "outputs": [
        {
          "output_type": "execute_result",
          "data": {
            "text/html": [
              "<div>\n",
              "<style scoped>\n",
              "    .dataframe tbody tr th:only-of-type {\n",
              "        vertical-align: middle;\n",
              "    }\n",
              "\n",
              "    .dataframe tbody tr th {\n",
              "        vertical-align: top;\n",
              "    }\n",
              "\n",
              "    .dataframe thead th {\n",
              "        text-align: right;\n",
              "    }\n",
              "</style>\n",
              "<table border=\"1\" class=\"dataframe\">\n",
              "  <thead>\n",
              "    <tr style=\"text-align: right;\">\n",
              "      <th></th>\n",
              "      <th>time_stamp</th>\n",
              "      <th>user_id</th>\n",
              "      <th>visited</th>\n",
              "      <th>Date</th>\n",
              "      <th>Month</th>\n",
              "      <th>Year</th>\n",
              "      <th>Week</th>\n",
              "    </tr>\n",
              "  </thead>\n",
              "  <tbody>\n",
              "    <tr>\n",
              "      <th>0</th>\n",
              "      <td>2014-04-22 03:53:30</td>\n",
              "      <td>1</td>\n",
              "      <td>1</td>\n",
              "      <td>22</td>\n",
              "      <td>4</td>\n",
              "      <td>2014</td>\n",
              "      <td>17</td>\n",
              "    </tr>\n",
              "    <tr>\n",
              "      <th>1</th>\n",
              "      <td>2013-11-15 03:45:04</td>\n",
              "      <td>2</td>\n",
              "      <td>1</td>\n",
              "      <td>15</td>\n",
              "      <td>11</td>\n",
              "      <td>2013</td>\n",
              "      <td>46</td>\n",
              "    </tr>\n",
              "    <tr>\n",
              "      <th>2</th>\n",
              "      <td>2013-11-29 03:45:04</td>\n",
              "      <td>2</td>\n",
              "      <td>1</td>\n",
              "      <td>29</td>\n",
              "      <td>11</td>\n",
              "      <td>2013</td>\n",
              "      <td>48</td>\n",
              "    </tr>\n",
              "    <tr>\n",
              "      <th>3</th>\n",
              "      <td>2013-12-09 03:45:04</td>\n",
              "      <td>2</td>\n",
              "      <td>1</td>\n",
              "      <td>9</td>\n",
              "      <td>12</td>\n",
              "      <td>2013</td>\n",
              "      <td>50</td>\n",
              "    </tr>\n",
              "    <tr>\n",
              "      <th>4</th>\n",
              "      <td>2013-12-25 03:45:04</td>\n",
              "      <td>2</td>\n",
              "      <td>1</td>\n",
              "      <td>25</td>\n",
              "      <td>12</td>\n",
              "      <td>2013</td>\n",
              "      <td>52</td>\n",
              "    </tr>\n",
              "  </tbody>\n",
              "</table>\n",
              "</div>"
            ],
            "text/plain": [
              "            time_stamp  user_id  visited  Date  Month  Year Week\n",
              "0  2014-04-22 03:53:30        1        1    22      4  2014   17\n",
              "1  2013-11-15 03:45:04        2        1    15     11  2013   46\n",
              "2  2013-11-29 03:45:04        2        1    29     11  2013   48\n",
              "3  2013-12-09 03:45:04        2        1     9     12  2013   50\n",
              "4  2013-12-25 03:45:04        2        1    25     12  2013   52"
            ]
          },
          "metadata": {},
          "execution_count": 189
        }
      ]
    },
    {
      "cell_type": "code",
      "metadata": {
        "colab": {
          "base_uri": "https://localhost:8080/"
        },
        "id": "crk2DeDVei7F",
        "outputId": "be8d324f-aba7-49d1-99c9-69bf8373a04c"
      },
      "source": [
        "takehome_user_engagement.info()"
      ],
      "execution_count": null,
      "outputs": [
        {
          "output_type": "stream",
          "name": "stdout",
          "text": [
            "<class 'pandas.core.frame.DataFrame'>\n",
            "RangeIndex: 207917 entries, 0 to 207916\n",
            "Data columns (total 7 columns):\n",
            " #   Column      Non-Null Count   Dtype \n",
            "---  ------      --------------   ----- \n",
            " 0   time_stamp  207917 non-null  object\n",
            " 1   user_id     207917 non-null  int64 \n",
            " 2   visited     207917 non-null  int64 \n",
            " 3   Date        207917 non-null  int64 \n",
            " 4   Month       207917 non-null  int64 \n",
            " 5   Year        207917 non-null  object\n",
            " 6   Week        207917 non-null  object\n",
            "dtypes: int64(4), object(3)\n",
            "memory usage: 11.1+ MB\n"
          ]
        }
      ]
    },
    {
      "cell_type": "markdown",
      "metadata": {
        "id": "wqQXNED25UKb"
      },
      "source": [
        "CONCATENATE THE WEEK AND YEAR TO GET THE UNIQE VALUES TO FIND THE NUMBER OF VISIT PER WEEK"
      ]
    },
    {
      "cell_type": "code",
      "metadata": {
        "id": "V0ym6sFee4XE"
      },
      "source": [
        "takehome_user_engagement['dummy']=takehome_user_engagement['Year'].astype(str)+takehome_user_engagement['Week'].astype(str)\n"
      ],
      "execution_count": null,
      "outputs": []
    },
    {
      "cell_type": "code",
      "metadata": {
        "colab": {
          "base_uri": "https://localhost:8080/",
          "height": 204
        },
        "id": "DmXWIK-egUKR",
        "outputId": "33682a79-fae4-4a3f-f29c-8f3bd50a9aa7"
      },
      "source": [
        "takehome_user_engagement.head()"
      ],
      "execution_count": null,
      "outputs": [
        {
          "output_type": "execute_result",
          "data": {
            "text/html": [
              "<div>\n",
              "<style scoped>\n",
              "    .dataframe tbody tr th:only-of-type {\n",
              "        vertical-align: middle;\n",
              "    }\n",
              "\n",
              "    .dataframe tbody tr th {\n",
              "        vertical-align: top;\n",
              "    }\n",
              "\n",
              "    .dataframe thead th {\n",
              "        text-align: right;\n",
              "    }\n",
              "</style>\n",
              "<table border=\"1\" class=\"dataframe\">\n",
              "  <thead>\n",
              "    <tr style=\"text-align: right;\">\n",
              "      <th></th>\n",
              "      <th>time_stamp</th>\n",
              "      <th>user_id</th>\n",
              "      <th>visited</th>\n",
              "      <th>Date</th>\n",
              "      <th>Month</th>\n",
              "      <th>Year</th>\n",
              "      <th>Week</th>\n",
              "      <th>dummy</th>\n",
              "    </tr>\n",
              "  </thead>\n",
              "  <tbody>\n",
              "    <tr>\n",
              "      <th>0</th>\n",
              "      <td>2014-04-22 03:53:30</td>\n",
              "      <td>1</td>\n",
              "      <td>1</td>\n",
              "      <td>22</td>\n",
              "      <td>4</td>\n",
              "      <td>2014</td>\n",
              "      <td>17</td>\n",
              "      <td>201417</td>\n",
              "    </tr>\n",
              "    <tr>\n",
              "      <th>1</th>\n",
              "      <td>2013-11-15 03:45:04</td>\n",
              "      <td>2</td>\n",
              "      <td>1</td>\n",
              "      <td>15</td>\n",
              "      <td>11</td>\n",
              "      <td>2013</td>\n",
              "      <td>46</td>\n",
              "      <td>201346</td>\n",
              "    </tr>\n",
              "    <tr>\n",
              "      <th>2</th>\n",
              "      <td>2013-11-29 03:45:04</td>\n",
              "      <td>2</td>\n",
              "      <td>1</td>\n",
              "      <td>29</td>\n",
              "      <td>11</td>\n",
              "      <td>2013</td>\n",
              "      <td>48</td>\n",
              "      <td>201348</td>\n",
              "    </tr>\n",
              "    <tr>\n",
              "      <th>3</th>\n",
              "      <td>2013-12-09 03:45:04</td>\n",
              "      <td>2</td>\n",
              "      <td>1</td>\n",
              "      <td>9</td>\n",
              "      <td>12</td>\n",
              "      <td>2013</td>\n",
              "      <td>50</td>\n",
              "      <td>201350</td>\n",
              "    </tr>\n",
              "    <tr>\n",
              "      <th>4</th>\n",
              "      <td>2013-12-25 03:45:04</td>\n",
              "      <td>2</td>\n",
              "      <td>1</td>\n",
              "      <td>25</td>\n",
              "      <td>12</td>\n",
              "      <td>2013</td>\n",
              "      <td>52</td>\n",
              "      <td>201352</td>\n",
              "    </tr>\n",
              "  </tbody>\n",
              "</table>\n",
              "</div>"
            ],
            "text/plain": [
              "            time_stamp  user_id  visited  Date  Month  Year Week   dummy\n",
              "0  2014-04-22 03:53:30        1        1    22      4  2014   17  201417\n",
              "1  2013-11-15 03:45:04        2        1    15     11  2013   46  201346\n",
              "2  2013-11-29 03:45:04        2        1    29     11  2013   48  201348\n",
              "3  2013-12-09 03:45:04        2        1     9     12  2013   50  201350\n",
              "4  2013-12-25 03:45:04        2        1    25     12  2013   52  201352"
            ]
          },
          "metadata": {},
          "execution_count": 192
        }
      ]
    },
    {
      "cell_type": "markdown",
      "metadata": {
        "id": "TS5cnEDe5i7v"
      },
      "source": [
        "THIS IS USE TO FIND THE NUMBER OF VIST ATLEAST 3 TIMES PER WEEK"
      ]
    },
    {
      "cell_type": "code",
      "metadata": {
        "id": "LINWW7GRhZ2d"
      },
      "source": [
        "m=takehome_user_engagement.groupby(['user_id','dummy'])['dummy'].count()>=3"
      ],
      "execution_count": null,
      "outputs": []
    },
    {
      "cell_type": "code",
      "metadata": {
        "id": "GKpNg_JojKTX"
      },
      "source": [
        "m.to_csv(\"new.csv\")"
      ],
      "execution_count": null,
      "outputs": []
    },
    {
      "cell_type": "code",
      "metadata": {
        "colab": {
          "base_uri": "https://localhost:8080/",
          "height": 1000
        },
        "id": "cixlpJFlj8pd",
        "outputId": "e7112381-9145-46e5-8ab3-5bc52b94e692"
      },
      "source": [
        "visit_week_gt3=pd.read_csv(\"new.csv\")\n",
        "visit_week_gt3.head(50)"
      ],
      "execution_count": null,
      "outputs": [
        {
          "output_type": "execute_result",
          "data": {
            "text/html": [
              "<div>\n",
              "<style scoped>\n",
              "    .dataframe tbody tr th:only-of-type {\n",
              "        vertical-align: middle;\n",
              "    }\n",
              "\n",
              "    .dataframe tbody tr th {\n",
              "        vertical-align: top;\n",
              "    }\n",
              "\n",
              "    .dataframe thead th {\n",
              "        text-align: right;\n",
              "    }\n",
              "</style>\n",
              "<table border=\"1\" class=\"dataframe\">\n",
              "  <thead>\n",
              "    <tr style=\"text-align: right;\">\n",
              "      <th></th>\n",
              "      <th>user_id</th>\n",
              "      <th>dummy</th>\n",
              "      <th>dummy.1</th>\n",
              "    </tr>\n",
              "  </thead>\n",
              "  <tbody>\n",
              "    <tr>\n",
              "      <th>0</th>\n",
              "      <td>1</td>\n",
              "      <td>201417</td>\n",
              "      <td>False</td>\n",
              "    </tr>\n",
              "    <tr>\n",
              "      <th>1</th>\n",
              "      <td>2</td>\n",
              "      <td>20131</td>\n",
              "      <td>False</td>\n",
              "    </tr>\n",
              "    <tr>\n",
              "      <th>2</th>\n",
              "      <td>2</td>\n",
              "      <td>201346</td>\n",
              "      <td>False</td>\n",
              "    </tr>\n",
              "    <tr>\n",
              "      <th>3</th>\n",
              "      <td>2</td>\n",
              "      <td>201348</td>\n",
              "      <td>False</td>\n",
              "    </tr>\n",
              "    <tr>\n",
              "      <th>4</th>\n",
              "      <td>2</td>\n",
              "      <td>201350</td>\n",
              "      <td>False</td>\n",
              "    </tr>\n",
              "    <tr>\n",
              "      <th>5</th>\n",
              "      <td>2</td>\n",
              "      <td>201352</td>\n",
              "      <td>False</td>\n",
              "    </tr>\n",
              "    <tr>\n",
              "      <th>6</th>\n",
              "      <td>2</td>\n",
              "      <td>201410</td>\n",
              "      <td>False</td>\n",
              "    </tr>\n",
              "    <tr>\n",
              "      <th>7</th>\n",
              "      <td>2</td>\n",
              "      <td>201411</td>\n",
              "      <td>False</td>\n",
              "    </tr>\n",
              "    <tr>\n",
              "      <th>8</th>\n",
              "      <td>2</td>\n",
              "      <td>201414</td>\n",
              "      <td>False</td>\n",
              "    </tr>\n",
              "    <tr>\n",
              "      <th>9</th>\n",
              "      <td>2</td>\n",
              "      <td>20142</td>\n",
              "      <td>False</td>\n",
              "    </tr>\n",
              "    <tr>\n",
              "      <th>10</th>\n",
              "      <td>2</td>\n",
              "      <td>20146</td>\n",
              "      <td>True</td>\n",
              "    </tr>\n",
              "    <tr>\n",
              "      <th>11</th>\n",
              "      <td>2</td>\n",
              "      <td>20147</td>\n",
              "      <td>False</td>\n",
              "    </tr>\n",
              "    <tr>\n",
              "      <th>12</th>\n",
              "      <td>3</td>\n",
              "      <td>201312</td>\n",
              "      <td>False</td>\n",
              "    </tr>\n",
              "    <tr>\n",
              "      <th>13</th>\n",
              "      <td>4</td>\n",
              "      <td>201321</td>\n",
              "      <td>False</td>\n",
              "    </tr>\n",
              "    <tr>\n",
              "      <th>14</th>\n",
              "      <td>5</td>\n",
              "      <td>20134</td>\n",
              "      <td>False</td>\n",
              "    </tr>\n",
              "    <tr>\n",
              "      <th>15</th>\n",
              "      <td>6</td>\n",
              "      <td>201351</td>\n",
              "      <td>False</td>\n",
              "    </tr>\n",
              "    <tr>\n",
              "      <th>16</th>\n",
              "      <td>7</td>\n",
              "      <td>201251</td>\n",
              "      <td>False</td>\n",
              "    </tr>\n",
              "    <tr>\n",
              "      <th>17</th>\n",
              "      <td>10</td>\n",
              "      <td>20131</td>\n",
              "      <td>False</td>\n",
              "    </tr>\n",
              "    <tr>\n",
              "      <th>18</th>\n",
              "      <td>10</td>\n",
              "      <td>201310</td>\n",
              "      <td>False</td>\n",
              "    </tr>\n",
              "    <tr>\n",
              "      <th>19</th>\n",
              "      <td>10</td>\n",
              "      <td>201311</td>\n",
              "      <td>False</td>\n",
              "    </tr>\n",
              "    <tr>\n",
              "      <th>20</th>\n",
              "      <td>10</td>\n",
              "      <td>201312</td>\n",
              "      <td>False</td>\n",
              "    </tr>\n",
              "    <tr>\n",
              "      <th>21</th>\n",
              "      <td>10</td>\n",
              "      <td>201313</td>\n",
              "      <td>False</td>\n",
              "    </tr>\n",
              "    <tr>\n",
              "      <th>22</th>\n",
              "      <td>10</td>\n",
              "      <td>201314</td>\n",
              "      <td>False</td>\n",
              "    </tr>\n",
              "    <tr>\n",
              "      <th>23</th>\n",
              "      <td>10</td>\n",
              "      <td>201315</td>\n",
              "      <td>True</td>\n",
              "    </tr>\n",
              "    <tr>\n",
              "      <th>24</th>\n",
              "      <td>10</td>\n",
              "      <td>201316</td>\n",
              "      <td>False</td>\n",
              "    </tr>\n",
              "    <tr>\n",
              "      <th>25</th>\n",
              "      <td>10</td>\n",
              "      <td>201317</td>\n",
              "      <td>True</td>\n",
              "    </tr>\n",
              "    <tr>\n",
              "      <th>26</th>\n",
              "      <td>10</td>\n",
              "      <td>201318</td>\n",
              "      <td>True</td>\n",
              "    </tr>\n",
              "    <tr>\n",
              "      <th>27</th>\n",
              "      <td>10</td>\n",
              "      <td>201319</td>\n",
              "      <td>True</td>\n",
              "    </tr>\n",
              "    <tr>\n",
              "      <th>28</th>\n",
              "      <td>10</td>\n",
              "      <td>201320</td>\n",
              "      <td>True</td>\n",
              "    </tr>\n",
              "    <tr>\n",
              "      <th>29</th>\n",
              "      <td>10</td>\n",
              "      <td>201321</td>\n",
              "      <td>False</td>\n",
              "    </tr>\n",
              "    <tr>\n",
              "      <th>30</th>\n",
              "      <td>10</td>\n",
              "      <td>201322</td>\n",
              "      <td>False</td>\n",
              "    </tr>\n",
              "    <tr>\n",
              "      <th>31</th>\n",
              "      <td>10</td>\n",
              "      <td>201323</td>\n",
              "      <td>True</td>\n",
              "    </tr>\n",
              "    <tr>\n",
              "      <th>32</th>\n",
              "      <td>10</td>\n",
              "      <td>201324</td>\n",
              "      <td>True</td>\n",
              "    </tr>\n",
              "    <tr>\n",
              "      <th>33</th>\n",
              "      <td>10</td>\n",
              "      <td>201325</td>\n",
              "      <td>True</td>\n",
              "    </tr>\n",
              "    <tr>\n",
              "      <th>34</th>\n",
              "      <td>10</td>\n",
              "      <td>201326</td>\n",
              "      <td>True</td>\n",
              "    </tr>\n",
              "    <tr>\n",
              "      <th>35</th>\n",
              "      <td>10</td>\n",
              "      <td>201327</td>\n",
              "      <td>True</td>\n",
              "    </tr>\n",
              "    <tr>\n",
              "      <th>36</th>\n",
              "      <td>10</td>\n",
              "      <td>201328</td>\n",
              "      <td>True</td>\n",
              "    </tr>\n",
              "    <tr>\n",
              "      <th>37</th>\n",
              "      <td>10</td>\n",
              "      <td>201329</td>\n",
              "      <td>True</td>\n",
              "    </tr>\n",
              "    <tr>\n",
              "      <th>38</th>\n",
              "      <td>10</td>\n",
              "      <td>20133</td>\n",
              "      <td>False</td>\n",
              "    </tr>\n",
              "    <tr>\n",
              "      <th>39</th>\n",
              "      <td>10</td>\n",
              "      <td>201330</td>\n",
              "      <td>True</td>\n",
              "    </tr>\n",
              "    <tr>\n",
              "      <th>40</th>\n",
              "      <td>10</td>\n",
              "      <td>201331</td>\n",
              "      <td>True</td>\n",
              "    </tr>\n",
              "    <tr>\n",
              "      <th>41</th>\n",
              "      <td>10</td>\n",
              "      <td>201332</td>\n",
              "      <td>True</td>\n",
              "    </tr>\n",
              "    <tr>\n",
              "      <th>42</th>\n",
              "      <td>10</td>\n",
              "      <td>201333</td>\n",
              "      <td>False</td>\n",
              "    </tr>\n",
              "    <tr>\n",
              "      <th>43</th>\n",
              "      <td>10</td>\n",
              "      <td>201334</td>\n",
              "      <td>True</td>\n",
              "    </tr>\n",
              "    <tr>\n",
              "      <th>44</th>\n",
              "      <td>10</td>\n",
              "      <td>201335</td>\n",
              "      <td>True</td>\n",
              "    </tr>\n",
              "    <tr>\n",
              "      <th>45</th>\n",
              "      <td>10</td>\n",
              "      <td>201336</td>\n",
              "      <td>True</td>\n",
              "    </tr>\n",
              "    <tr>\n",
              "      <th>46</th>\n",
              "      <td>10</td>\n",
              "      <td>201337</td>\n",
              "      <td>True</td>\n",
              "    </tr>\n",
              "    <tr>\n",
              "      <th>47</th>\n",
              "      <td>10</td>\n",
              "      <td>201338</td>\n",
              "      <td>True</td>\n",
              "    </tr>\n",
              "    <tr>\n",
              "      <th>48</th>\n",
              "      <td>10</td>\n",
              "      <td>201339</td>\n",
              "      <td>False</td>\n",
              "    </tr>\n",
              "    <tr>\n",
              "      <th>49</th>\n",
              "      <td>10</td>\n",
              "      <td>20134</td>\n",
              "      <td>False</td>\n",
              "    </tr>\n",
              "  </tbody>\n",
              "</table>\n",
              "</div>"
            ],
            "text/plain": [
              "    user_id   dummy  dummy.1\n",
              "0         1  201417    False\n",
              "1         2   20131    False\n",
              "2         2  201346    False\n",
              "3         2  201348    False\n",
              "4         2  201350    False\n",
              "5         2  201352    False\n",
              "6         2  201410    False\n",
              "7         2  201411    False\n",
              "8         2  201414    False\n",
              "9         2   20142    False\n",
              "10        2   20146     True\n",
              "11        2   20147    False\n",
              "12        3  201312    False\n",
              "13        4  201321    False\n",
              "14        5   20134    False\n",
              "15        6  201351    False\n",
              "16        7  201251    False\n",
              "17       10   20131    False\n",
              "18       10  201310    False\n",
              "19       10  201311    False\n",
              "20       10  201312    False\n",
              "21       10  201313    False\n",
              "22       10  201314    False\n",
              "23       10  201315     True\n",
              "24       10  201316    False\n",
              "25       10  201317     True\n",
              "26       10  201318     True\n",
              "27       10  201319     True\n",
              "28       10  201320     True\n",
              "29       10  201321    False\n",
              "30       10  201322    False\n",
              "31       10  201323     True\n",
              "32       10  201324     True\n",
              "33       10  201325     True\n",
              "34       10  201326     True\n",
              "35       10  201327     True\n",
              "36       10  201328     True\n",
              "37       10  201329     True\n",
              "38       10   20133    False\n",
              "39       10  201330     True\n",
              "40       10  201331     True\n",
              "41       10  201332     True\n",
              "42       10  201333    False\n",
              "43       10  201334     True\n",
              "44       10  201335     True\n",
              "45       10  201336     True\n",
              "46       10  201337     True\n",
              "47       10  201338     True\n",
              "48       10  201339    False\n",
              "49       10   20134    False"
            ]
          },
          "metadata": {},
          "execution_count": 195
        }
      ]
    },
    {
      "cell_type": "code",
      "metadata": {
        "id": "E6Z-w9HLmwWe"
      },
      "source": [
        "visit_week_gt3.drop(['dummy'],axis=1,inplace=True)"
      ],
      "execution_count": null,
      "outputs": []
    },
    {
      "cell_type": "code",
      "metadata": {
        "id": "GIOzhJGFnPvM"
      },
      "source": [
        "visit_week_gt3['dummy.1'] = visit_week_gt3['dummy.1'].astype(int)"
      ],
      "execution_count": null,
      "outputs": []
    },
    {
      "cell_type": "code",
      "metadata": {
        "id": "GFqXI3Qknzp6"
      },
      "source": [
        "gb=visit_week_gt3.groupby('user_id')['dummy.1'].count()-1"
      ],
      "execution_count": null,
      "outputs": []
    },
    {
      "cell_type": "code",
      "metadata": {
        "id": "OP5dXOQboxhv"
      },
      "source": [
        "gb=gb.astype(int)"
      ],
      "execution_count": null,
      "outputs": []
    },
    {
      "cell_type": "code",
      "metadata": {
        "id": "d2aN0BVXpKBW"
      },
      "source": [
        "final=pd.merge(new_data,gb, on='user_id',how='outer')"
      ],
      "execution_count": null,
      "outputs": []
    },
    {
      "cell_type": "markdown",
      "metadata": {
        "id": "2WANKPUH54hc"
      },
      "source": [
        "ADDING THE TOTAL NUMBER OF VISIT BY USER AND COUNT OF NUMBER OF VISIT GREATER THAN OR EQUAL TO THREE PER WEEK"
      ]
    },
    {
      "cell_type": "code",
      "metadata": {
        "colab": {
          "base_uri": "https://localhost:8080/",
          "height": 609
        },
        "id": "xfxmpz_NyFEj",
        "outputId": "2700a724-2513-467f-e575-4cd80169e04f"
      },
      "source": [
        "final.fillna(0)"
      ],
      "execution_count": null,
      "outputs": [
        {
          "output_type": "execute_result",
          "data": {
            "text/html": [
              "<div>\n",
              "<style scoped>\n",
              "    .dataframe tbody tr th:only-of-type {\n",
              "        vertical-align: middle;\n",
              "    }\n",
              "\n",
              "    .dataframe tbody tr th {\n",
              "        vertical-align: top;\n",
              "    }\n",
              "\n",
              "    .dataframe thead th {\n",
              "        text-align: right;\n",
              "    }\n",
              "</style>\n",
              "<table border=\"1\" class=\"dataframe\">\n",
              "  <thead>\n",
              "    <tr style=\"text-align: right;\">\n",
              "      <th></th>\n",
              "      <th>user_id</th>\n",
              "      <th>creation_time</th>\n",
              "      <th>name</th>\n",
              "      <th>email</th>\n",
              "      <th>creation_source</th>\n",
              "      <th>last_session_creation_time</th>\n",
              "      <th>opted_in_to_mailing_list</th>\n",
              "      <th>enabled_for_marketing_drip</th>\n",
              "      <th>org_id</th>\n",
              "      <th>invited_by_user_id</th>\n",
              "      <th>visited</th>\n",
              "      <th>dummy.1</th>\n",
              "    </tr>\n",
              "  </thead>\n",
              "  <tbody>\n",
              "    <tr>\n",
              "      <th>0</th>\n",
              "      <td>1</td>\n",
              "      <td>2014-04-22 03:53:30</td>\n",
              "      <td>Clausen August</td>\n",
              "      <td>AugustCClausen@yahoo.com</td>\n",
              "      <td>GUEST_INVITE</td>\n",
              "      <td>1.398139e+09</td>\n",
              "      <td>1</td>\n",
              "      <td>0</td>\n",
              "      <td>11</td>\n",
              "      <td>10803.0</td>\n",
              "      <td>1</td>\n",
              "      <td>0.0</td>\n",
              "    </tr>\n",
              "    <tr>\n",
              "      <th>1</th>\n",
              "      <td>2</td>\n",
              "      <td>2013-11-15 03:45:04</td>\n",
              "      <td>Poole Matthew</td>\n",
              "      <td>MatthewPoole@gustr.com</td>\n",
              "      <td>ORG_INVITE</td>\n",
              "      <td>1.396238e+09</td>\n",
              "      <td>0</td>\n",
              "      <td>0</td>\n",
              "      <td>1</td>\n",
              "      <td>316.0</td>\n",
              "      <td>14</td>\n",
              "      <td>10.0</td>\n",
              "    </tr>\n",
              "    <tr>\n",
              "      <th>2</th>\n",
              "      <td>3</td>\n",
              "      <td>2013-03-19 23:14:52</td>\n",
              "      <td>Bottrill Mitchell</td>\n",
              "      <td>MitchellBottrill@gustr.com</td>\n",
              "      <td>ORG_INVITE</td>\n",
              "      <td>1.363735e+09</td>\n",
              "      <td>0</td>\n",
              "      <td>0</td>\n",
              "      <td>94</td>\n",
              "      <td>1525.0</td>\n",
              "      <td>1</td>\n",
              "      <td>0.0</td>\n",
              "    </tr>\n",
              "    <tr>\n",
              "      <th>3</th>\n",
              "      <td>4</td>\n",
              "      <td>2013-05-21 08:09:28</td>\n",
              "      <td>Clausen Nicklas</td>\n",
              "      <td>NicklasSClausen@yahoo.com</td>\n",
              "      <td>GUEST_INVITE</td>\n",
              "      <td>1.369210e+09</td>\n",
              "      <td>0</td>\n",
              "      <td>0</td>\n",
              "      <td>1</td>\n",
              "      <td>5151.0</td>\n",
              "      <td>1</td>\n",
              "      <td>0.0</td>\n",
              "    </tr>\n",
              "    <tr>\n",
              "      <th>4</th>\n",
              "      <td>5</td>\n",
              "      <td>2013-01-17 10:14:20</td>\n",
              "      <td>Raw Grace</td>\n",
              "      <td>GraceRaw@yahoo.com</td>\n",
              "      <td>GUEST_INVITE</td>\n",
              "      <td>1.358850e+09</td>\n",
              "      <td>0</td>\n",
              "      <td>0</td>\n",
              "      <td>193</td>\n",
              "      <td>5240.0</td>\n",
              "      <td>1</td>\n",
              "      <td>0.0</td>\n",
              "    </tr>\n",
              "    <tr>\n",
              "      <th>...</th>\n",
              "      <td>...</td>\n",
              "      <td>...</td>\n",
              "      <td>...</td>\n",
              "      <td>...</td>\n",
              "      <td>...</td>\n",
              "      <td>...</td>\n",
              "      <td>...</td>\n",
              "      <td>...</td>\n",
              "      <td>...</td>\n",
              "      <td>...</td>\n",
              "      <td>...</td>\n",
              "      <td>...</td>\n",
              "    </tr>\n",
              "    <tr>\n",
              "      <th>11995</th>\n",
              "      <td>11996</td>\n",
              "      <td>2013-09-06 06:14:15</td>\n",
              "      <td>Meier Sophia</td>\n",
              "      <td>SophiaMeier@gustr.com</td>\n",
              "      <td>ORG_INVITE</td>\n",
              "      <td>1.378448e+09</td>\n",
              "      <td>0</td>\n",
              "      <td>0</td>\n",
              "      <td>89</td>\n",
              "      <td>8263.0</td>\n",
              "      <td>1</td>\n",
              "      <td>0.0</td>\n",
              "    </tr>\n",
              "    <tr>\n",
              "      <th>11996</th>\n",
              "      <td>11997</td>\n",
              "      <td>2013-01-10 18:28:37</td>\n",
              "      <td>Fisher Amelie</td>\n",
              "      <td>AmelieFisher@gmail.com</td>\n",
              "      <td>SIGNUP_GOOGLE_AUTH</td>\n",
              "      <td>1.358275e+09</td>\n",
              "      <td>0</td>\n",
              "      <td>0</td>\n",
              "      <td>200</td>\n",
              "      <td>0.0</td>\n",
              "      <td>1</td>\n",
              "      <td>0.0</td>\n",
              "    </tr>\n",
              "    <tr>\n",
              "      <th>11997</th>\n",
              "      <td>11998</td>\n",
              "      <td>2014-04-27 12:45:16</td>\n",
              "      <td>Haynes Jake</td>\n",
              "      <td>JakeHaynes@cuvox.de</td>\n",
              "      <td>GUEST_INVITE</td>\n",
              "      <td>1.398603e+09</td>\n",
              "      <td>1</td>\n",
              "      <td>1</td>\n",
              "      <td>83</td>\n",
              "      <td>8074.0</td>\n",
              "      <td>1</td>\n",
              "      <td>0.0</td>\n",
              "    </tr>\n",
              "    <tr>\n",
              "      <th>11998</th>\n",
              "      <td>11999</td>\n",
              "      <td>2012-05-31 11:55:59</td>\n",
              "      <td>Faber Annett</td>\n",
              "      <td>mhaerzxp@iuxiw.com</td>\n",
              "      <td>PERSONAL_PROJECTS</td>\n",
              "      <td>1.338638e+09</td>\n",
              "      <td>0</td>\n",
              "      <td>0</td>\n",
              "      <td>6</td>\n",
              "      <td>0.0</td>\n",
              "      <td>1</td>\n",
              "      <td>0.0</td>\n",
              "    </tr>\n",
              "    <tr>\n",
              "      <th>11999</th>\n",
              "      <td>12000</td>\n",
              "      <td>2014-01-26 08:57:12</td>\n",
              "      <td>Lima Thaís</td>\n",
              "      <td>ThaisMeloLima@hotmail.com</td>\n",
              "      <td>SIGNUP</td>\n",
              "      <td>1.390727e+09</td>\n",
              "      <td>0</td>\n",
              "      <td>1</td>\n",
              "      <td>0</td>\n",
              "      <td>0.0</td>\n",
              "      <td>1</td>\n",
              "      <td>0.0</td>\n",
              "    </tr>\n",
              "  </tbody>\n",
              "</table>\n",
              "<p>12000 rows × 12 columns</p>\n",
              "</div>"
            ],
            "text/plain": [
              "       user_id        creation_time  ... visited dummy.1\n",
              "0            1  2014-04-22 03:53:30  ...       1     0.0\n",
              "1            2  2013-11-15 03:45:04  ...      14    10.0\n",
              "2            3  2013-03-19 23:14:52  ...       1     0.0\n",
              "3            4  2013-05-21 08:09:28  ...       1     0.0\n",
              "4            5  2013-01-17 10:14:20  ...       1     0.0\n",
              "...        ...                  ...  ...     ...     ...\n",
              "11995    11996  2013-09-06 06:14:15  ...       1     0.0\n",
              "11996    11997  2013-01-10 18:28:37  ...       1     0.0\n",
              "11997    11998  2014-04-27 12:45:16  ...       1     0.0\n",
              "11998    11999  2012-05-31 11:55:59  ...       1     0.0\n",
              "11999    12000  2014-01-26 08:57:12  ...       1     0.0\n",
              "\n",
              "[12000 rows x 12 columns]"
            ]
          },
          "metadata": {},
          "execution_count": 201
        }
      ]
    },
    {
      "cell_type": "code",
      "metadata": {
        "id": "8fwbzLDPqLlj"
      },
      "source": [
        "final[\"dummy.1\"]=final[\"dummy.1\"].fillna(0).astype(int)"
      ],
      "execution_count": null,
      "outputs": []
    },
    {
      "cell_type": "code",
      "metadata": {
        "colab": {
          "base_uri": "https://localhost:8080/"
        },
        "id": "25eUGKMjsY0r",
        "outputId": "4f480b5b-d3cc-482d-fcf0-ec2fb6359df3"
      },
      "source": [
        "final['creation_source'].unique()"
      ],
      "execution_count": null,
      "outputs": [
        {
          "output_type": "execute_result",
          "data": {
            "text/plain": [
              "array(['GUEST_INVITE', 'ORG_INVITE', 'SIGNUP', 'PERSONAL_PROJECTS',\n",
              "       'SIGNUP_GOOGLE_AUTH'], dtype=object)"
            ]
          },
          "metadata": {},
          "execution_count": 203
        }
      ]
    },
    {
      "cell_type": "code",
      "metadata": {
        "colab": {
          "base_uri": "https://localhost:8080/",
          "height": 309
        },
        "id": "4WkoiDNLEdia",
        "outputId": "52266e96-c924-4838-97a5-7d3c154c349e"
      },
      "source": [
        "final.head()"
      ],
      "execution_count": null,
      "outputs": [
        {
          "output_type": "execute_result",
          "data": {
            "text/html": [
              "<div>\n",
              "<style scoped>\n",
              "    .dataframe tbody tr th:only-of-type {\n",
              "        vertical-align: middle;\n",
              "    }\n",
              "\n",
              "    .dataframe tbody tr th {\n",
              "        vertical-align: top;\n",
              "    }\n",
              "\n",
              "    .dataframe thead th {\n",
              "        text-align: right;\n",
              "    }\n",
              "</style>\n",
              "<table border=\"1\" class=\"dataframe\">\n",
              "  <thead>\n",
              "    <tr style=\"text-align: right;\">\n",
              "      <th></th>\n",
              "      <th>user_id</th>\n",
              "      <th>creation_time</th>\n",
              "      <th>name</th>\n",
              "      <th>email</th>\n",
              "      <th>creation_source</th>\n",
              "      <th>last_session_creation_time</th>\n",
              "      <th>opted_in_to_mailing_list</th>\n",
              "      <th>enabled_for_marketing_drip</th>\n",
              "      <th>org_id</th>\n",
              "      <th>invited_by_user_id</th>\n",
              "      <th>visited</th>\n",
              "      <th>dummy.1</th>\n",
              "    </tr>\n",
              "  </thead>\n",
              "  <tbody>\n",
              "    <tr>\n",
              "      <th>0</th>\n",
              "      <td>1</td>\n",
              "      <td>2014-04-22 03:53:30</td>\n",
              "      <td>Clausen August</td>\n",
              "      <td>AugustCClausen@yahoo.com</td>\n",
              "      <td>GUEST_INVITE</td>\n",
              "      <td>1.398139e+09</td>\n",
              "      <td>1</td>\n",
              "      <td>0</td>\n",
              "      <td>11</td>\n",
              "      <td>10803.0</td>\n",
              "      <td>1</td>\n",
              "      <td>0</td>\n",
              "    </tr>\n",
              "    <tr>\n",
              "      <th>1</th>\n",
              "      <td>2</td>\n",
              "      <td>2013-11-15 03:45:04</td>\n",
              "      <td>Poole Matthew</td>\n",
              "      <td>MatthewPoole@gustr.com</td>\n",
              "      <td>ORG_INVITE</td>\n",
              "      <td>1.396238e+09</td>\n",
              "      <td>0</td>\n",
              "      <td>0</td>\n",
              "      <td>1</td>\n",
              "      <td>316.0</td>\n",
              "      <td>14</td>\n",
              "      <td>10</td>\n",
              "    </tr>\n",
              "    <tr>\n",
              "      <th>2</th>\n",
              "      <td>3</td>\n",
              "      <td>2013-03-19 23:14:52</td>\n",
              "      <td>Bottrill Mitchell</td>\n",
              "      <td>MitchellBottrill@gustr.com</td>\n",
              "      <td>ORG_INVITE</td>\n",
              "      <td>1.363735e+09</td>\n",
              "      <td>0</td>\n",
              "      <td>0</td>\n",
              "      <td>94</td>\n",
              "      <td>1525.0</td>\n",
              "      <td>1</td>\n",
              "      <td>0</td>\n",
              "    </tr>\n",
              "    <tr>\n",
              "      <th>3</th>\n",
              "      <td>4</td>\n",
              "      <td>2013-05-21 08:09:28</td>\n",
              "      <td>Clausen Nicklas</td>\n",
              "      <td>NicklasSClausen@yahoo.com</td>\n",
              "      <td>GUEST_INVITE</td>\n",
              "      <td>1.369210e+09</td>\n",
              "      <td>0</td>\n",
              "      <td>0</td>\n",
              "      <td>1</td>\n",
              "      <td>5151.0</td>\n",
              "      <td>1</td>\n",
              "      <td>0</td>\n",
              "    </tr>\n",
              "    <tr>\n",
              "      <th>4</th>\n",
              "      <td>5</td>\n",
              "      <td>2013-01-17 10:14:20</td>\n",
              "      <td>Raw Grace</td>\n",
              "      <td>GraceRaw@yahoo.com</td>\n",
              "      <td>GUEST_INVITE</td>\n",
              "      <td>1.358850e+09</td>\n",
              "      <td>0</td>\n",
              "      <td>0</td>\n",
              "      <td>193</td>\n",
              "      <td>5240.0</td>\n",
              "      <td>1</td>\n",
              "      <td>0</td>\n",
              "    </tr>\n",
              "  </tbody>\n",
              "</table>\n",
              "</div>"
            ],
            "text/plain": [
              "   user_id        creation_time  ... visited dummy.1\n",
              "0        1  2014-04-22 03:53:30  ...       1       0\n",
              "1        2  2013-11-15 03:45:04  ...      14      10\n",
              "2        3  2013-03-19 23:14:52  ...       1       0\n",
              "3        4  2013-05-21 08:09:28  ...       1       0\n",
              "4        5  2013-01-17 10:14:20  ...       1       0\n",
              "\n",
              "[5 rows x 12 columns]"
            ]
          },
          "metadata": {},
          "execution_count": 204
        }
      ]
    },
    {
      "cell_type": "code",
      "metadata": {
        "id": "FvbKOGyP9iyH"
      },
      "source": [
        "final[\"TOTAL_NO_OF_VISITS\"]=final[\"visited\"].replace('TOTAL_NO_OF_VISITS')"
      ],
      "execution_count": null,
      "outputs": []
    },
    {
      "cell_type": "code",
      "metadata": {
        "id": "RafxcheK-DFc"
      },
      "source": [
        "final.rename(columns={'dummy.1':'NO_OF COUNT>3_PER_WEEK',\n",
        "                      'visited':'TOTAL_NO_OF_VISITS',},inplace=True)\n"
      ],
      "execution_count": null,
      "outputs": []
    },
    {
      "cell_type": "code",
      "metadata": {
        "id": "0XQUGteE9zyp"
      },
      "source": [
        "final_sort=final.sort_values('NO_OF COUNT>3_PER_WEEK',ascending=False)"
      ],
      "execution_count": null,
      "outputs": []
    },
    {
      "cell_type": "code",
      "metadata": {
        "colab": {
          "base_uri": "https://localhost:8080/",
          "height": 326
        },
        "id": "7O_I3iQ1Ba9S",
        "outputId": "f2b3db7d-1086-4315-d850-6528b15e5298"
      },
      "source": [
        "final_sort.head()"
      ],
      "execution_count": null,
      "outputs": [
        {
          "output_type": "execute_result",
          "data": {
            "text/html": [
              "<div>\n",
              "<style scoped>\n",
              "    .dataframe tbody tr th:only-of-type {\n",
              "        vertical-align: middle;\n",
              "    }\n",
              "\n",
              "    .dataframe tbody tr th {\n",
              "        vertical-align: top;\n",
              "    }\n",
              "\n",
              "    .dataframe thead th {\n",
              "        text-align: right;\n",
              "    }\n",
              "</style>\n",
              "<table border=\"1\" class=\"dataframe\">\n",
              "  <thead>\n",
              "    <tr style=\"text-align: right;\">\n",
              "      <th></th>\n",
              "      <th>user_id</th>\n",
              "      <th>creation_time</th>\n",
              "      <th>name</th>\n",
              "      <th>email</th>\n",
              "      <th>creation_source</th>\n",
              "      <th>last_session_creation_time</th>\n",
              "      <th>opted_in_to_mailing_list</th>\n",
              "      <th>enabled_for_marketing_drip</th>\n",
              "      <th>org_id</th>\n",
              "      <th>invited_by_user_id</th>\n",
              "      <th>TOTAL_NO_OF_VISITS</th>\n",
              "      <th>NO_OF COUNT&gt;3_PER_WEEK</th>\n",
              "      <th>TOTAL_NO_OF_VISITS</th>\n",
              "    </tr>\n",
              "  </thead>\n",
              "  <tbody>\n",
              "    <tr>\n",
              "      <th>7589</th>\n",
              "      <td>7590</td>\n",
              "      <td>2012-06-08 00:51:13</td>\n",
              "      <td>Ferreira Rebeca</td>\n",
              "      <td>ffickuvv@qqgix.com</td>\n",
              "      <td>PERSONAL_PROJECTS</td>\n",
              "      <td>1.401843e+09</td>\n",
              "      <td>0</td>\n",
              "      <td>0</td>\n",
              "      <td>225</td>\n",
              "      <td>0.0</td>\n",
              "      <td>590</td>\n",
              "      <td>104</td>\n",
              "      <td>590</td>\n",
              "    </tr>\n",
              "    <tr>\n",
              "      <th>9401</th>\n",
              "      <td>9402</td>\n",
              "      <td>2012-06-16 13:23:57</td>\n",
              "      <td>Molloy Alex</td>\n",
              "      <td>AlexMolloy@yahoo.com</td>\n",
              "      <td>ORG_INVITE</td>\n",
              "      <td>1.401802e+09</td>\n",
              "      <td>0</td>\n",
              "      <td>0</td>\n",
              "      <td>317</td>\n",
              "      <td>879.0</td>\n",
              "      <td>581</td>\n",
              "      <td>103</td>\n",
              "      <td>581</td>\n",
              "    </tr>\n",
              "    <tr>\n",
              "      <th>5296</th>\n",
              "      <td>5297</td>\n",
              "      <td>2012-06-10 17:32:09</td>\n",
              "      <td>Follett Joseph</td>\n",
              "      <td>JosephFollett@yahoo.com</td>\n",
              "      <td>GUEST_INVITE</td>\n",
              "      <td>1.401903e+09</td>\n",
              "      <td>0</td>\n",
              "      <td>0</td>\n",
              "      <td>69</td>\n",
              "      <td>5577.0</td>\n",
              "      <td>520</td>\n",
              "      <td>101</td>\n",
              "      <td>520</td>\n",
              "    </tr>\n",
              "    <tr>\n",
              "      <th>905</th>\n",
              "      <td>906</td>\n",
              "      <td>2012-06-17 22:49:52</td>\n",
              "      <td>Becker Jessika</td>\n",
              "      <td>JessikaBecker@gmail.com</td>\n",
              "      <td>SIGNUP_GOOGLE_AUTH</td>\n",
              "      <td>1.401922e+09</td>\n",
              "      <td>0</td>\n",
              "      <td>0</td>\n",
              "      <td>358</td>\n",
              "      <td>0.0</td>\n",
              "      <td>600</td>\n",
              "      <td>101</td>\n",
              "      <td>600</td>\n",
              "    </tr>\n",
              "    <tr>\n",
              "      <th>6977</th>\n",
              "      <td>6978</td>\n",
              "      <td>2012-06-18 15:25:52</td>\n",
              "      <td>Pinto Emily</td>\n",
              "      <td>EmilyGoncalvesPinto@gmail.com</td>\n",
              "      <td>PERSONAL_PROJECTS</td>\n",
              "      <td>1.401896e+09</td>\n",
              "      <td>0</td>\n",
              "      <td>0</td>\n",
              "      <td>194</td>\n",
              "      <td>0.0</td>\n",
              "      <td>383</td>\n",
              "      <td>101</td>\n",
              "      <td>383</td>\n",
              "    </tr>\n",
              "  </tbody>\n",
              "</table>\n",
              "</div>"
            ],
            "text/plain": [
              "      user_id        creation_time  ... NO_OF COUNT>3_PER_WEEK TOTAL_NO_OF_VISITS\n",
              "7589     7590  2012-06-08 00:51:13  ...                    104                590\n",
              "9401     9402  2012-06-16 13:23:57  ...                    103                581\n",
              "5296     5297  2012-06-10 17:32:09  ...                    101                520\n",
              "905       906  2012-06-17 22:49:52  ...                    101                600\n",
              "6977     6978  2012-06-18 15:25:52  ...                    101                383\n",
              "\n",
              "[5 rows x 13 columns]"
            ]
          },
          "metadata": {},
          "execution_count": 208
        }
      ]
    },
    {
      "cell_type": "code",
      "metadata": {
        "colab": {
          "base_uri": "https://localhost:8080/",
          "height": 326
        },
        "id": "bz-Rbq-SDrgC",
        "outputId": "5bdab2e3-e1f1-4c59-9f91-534168046118"
      },
      "source": [
        "final_sort.tail()"
      ],
      "execution_count": null,
      "outputs": [
        {
          "output_type": "execute_result",
          "data": {
            "text/html": [
              "<div>\n",
              "<style scoped>\n",
              "    .dataframe tbody tr th:only-of-type {\n",
              "        vertical-align: middle;\n",
              "    }\n",
              "\n",
              "    .dataframe tbody tr th {\n",
              "        vertical-align: top;\n",
              "    }\n",
              "\n",
              "    .dataframe thead th {\n",
              "        text-align: right;\n",
              "    }\n",
              "</style>\n",
              "<table border=\"1\" class=\"dataframe\">\n",
              "  <thead>\n",
              "    <tr style=\"text-align: right;\">\n",
              "      <th></th>\n",
              "      <th>user_id</th>\n",
              "      <th>creation_time</th>\n",
              "      <th>name</th>\n",
              "      <th>email</th>\n",
              "      <th>creation_source</th>\n",
              "      <th>last_session_creation_time</th>\n",
              "      <th>opted_in_to_mailing_list</th>\n",
              "      <th>enabled_for_marketing_drip</th>\n",
              "      <th>org_id</th>\n",
              "      <th>invited_by_user_id</th>\n",
              "      <th>TOTAL_NO_OF_VISITS</th>\n",
              "      <th>NO_OF COUNT&gt;3_PER_WEEK</th>\n",
              "      <th>TOTAL_NO_OF_VISITS</th>\n",
              "    </tr>\n",
              "  </thead>\n",
              "  <tbody>\n",
              "    <tr>\n",
              "      <th>4470</th>\n",
              "      <td>4471</td>\n",
              "      <td>2013-11-25 01:54:30</td>\n",
              "      <td>Jespersen Johanne</td>\n",
              "      <td>JohanneBJespersen@gmail.com</td>\n",
              "      <td>SIGNUP</td>\n",
              "      <td>1.385776e+09</td>\n",
              "      <td>0</td>\n",
              "      <td>0</td>\n",
              "      <td>51</td>\n",
              "      <td>0.0</td>\n",
              "      <td>1</td>\n",
              "      <td>0</td>\n",
              "      <td>1</td>\n",
              "    </tr>\n",
              "    <tr>\n",
              "      <th>4472</th>\n",
              "      <td>4473</td>\n",
              "      <td>2012-10-12 20:58:57</td>\n",
              "      <td>Trethowan Alexander</td>\n",
              "      <td>AlexanderTrethowan@gustr.com</td>\n",
              "      <td>GUEST_INVITE</td>\n",
              "      <td>1.350508e+09</td>\n",
              "      <td>1</td>\n",
              "      <td>1</td>\n",
              "      <td>76</td>\n",
              "      <td>8504.0</td>\n",
              "      <td>1</td>\n",
              "      <td>0</td>\n",
              "      <td>1</td>\n",
              "    </tr>\n",
              "    <tr>\n",
              "      <th>4474</th>\n",
              "      <td>4475</td>\n",
              "      <td>2013-01-22 09:09:44</td>\n",
              "      <td>Cavalcanti Ana</td>\n",
              "      <td>AnaPintoCavalcanti@jourrapide.com</td>\n",
              "      <td>PERSONAL_PROJECTS</td>\n",
              "      <td>0.000000e+00</td>\n",
              "      <td>0</td>\n",
              "      <td>0</td>\n",
              "      <td>152</td>\n",
              "      <td>0.0</td>\n",
              "      <td>0</td>\n",
              "      <td>0</td>\n",
              "      <td>0</td>\n",
              "    </tr>\n",
              "    <tr>\n",
              "      <th>4475</th>\n",
              "      <td>4476</td>\n",
              "      <td>2012-07-25 16:20:55</td>\n",
              "      <td>Jeppesen Mimir</td>\n",
              "      <td>MimirLJeppesen@yahoo.com</td>\n",
              "      <td>SIGNUP</td>\n",
              "      <td>1.343233e+09</td>\n",
              "      <td>0</td>\n",
              "      <td>0</td>\n",
              "      <td>414</td>\n",
              "      <td>0.0</td>\n",
              "      <td>1</td>\n",
              "      <td>0</td>\n",
              "      <td>1</td>\n",
              "    </tr>\n",
              "    <tr>\n",
              "      <th>11999</th>\n",
              "      <td>12000</td>\n",
              "      <td>2014-01-26 08:57:12</td>\n",
              "      <td>Lima Thaís</td>\n",
              "      <td>ThaisMeloLima@hotmail.com</td>\n",
              "      <td>SIGNUP</td>\n",
              "      <td>1.390727e+09</td>\n",
              "      <td>0</td>\n",
              "      <td>1</td>\n",
              "      <td>0</td>\n",
              "      <td>0.0</td>\n",
              "      <td>1</td>\n",
              "      <td>0</td>\n",
              "      <td>1</td>\n",
              "    </tr>\n",
              "  </tbody>\n",
              "</table>\n",
              "</div>"
            ],
            "text/plain": [
              "       user_id        creation_time  ... NO_OF COUNT>3_PER_WEEK TOTAL_NO_OF_VISITS\n",
              "4470      4471  2013-11-25 01:54:30  ...                      0                  1\n",
              "4472      4473  2012-10-12 20:58:57  ...                      0                  1\n",
              "4474      4475  2013-01-22 09:09:44  ...                      0                  0\n",
              "4475      4476  2012-07-25 16:20:55  ...                      0                  1\n",
              "11999    12000  2014-01-26 08:57:12  ...                      0                  1\n",
              "\n",
              "[5 rows x 13 columns]"
            ]
          },
          "metadata": {},
          "execution_count": 209
        }
      ]
    },
    {
      "cell_type": "code",
      "metadata": {
        "colab": {
          "base_uri": "https://localhost:8080/"
        },
        "id": "YqXaZxsl5Fl4",
        "outputId": "2546ccf2-f67c-482e-e013-988df26d0eb8"
      },
      "source": [
        "creation_source=final.creation_source.value_counts()\n",
        "creation_source"
      ],
      "execution_count": null,
      "outputs": [
        {
          "output_type": "execute_result",
          "data": {
            "text/plain": [
              "ORG_INVITE            4254\n",
              "GUEST_INVITE          2163\n",
              "PERSONAL_PROJECTS     2111\n",
              "SIGNUP                2087\n",
              "SIGNUP_GOOGLE_AUTH    1385\n",
              "Name: creation_source, dtype: int64"
            ]
          },
          "metadata": {},
          "execution_count": 210
        }
      ]
    },
    {
      "cell_type": "code",
      "metadata": {
        "colab": {
          "base_uri": "https://localhost:8080/"
        },
        "id": "JG4s4Ry9rfyF",
        "outputId": "8db27058-f99b-49f9-b8ca-901c6853ac52"
      },
      "source": [
        "final['creation_source'].unique()"
      ],
      "execution_count": null,
      "outputs": [
        {
          "output_type": "execute_result",
          "data": {
            "text/plain": [
              "array(['GUEST_INVITE', 'ORG_INVITE', 'SIGNUP', 'PERSONAL_PROJECTS',\n",
              "       'SIGNUP_GOOGLE_AUTH'], dtype=object)"
            ]
          },
          "metadata": {},
          "execution_count": 211
        }
      ]
    },
    {
      "cell_type": "code",
      "metadata": {
        "colab": {
          "base_uri": "https://localhost:8080/",
          "height": 772
        },
        "id": "FVN4MTSyQrkZ",
        "outputId": "356b2a6f-6f07-4fd0-c449-55307ebb175b"
      },
      "source": [
        "CS = creation_source\n",
        "mylabels = [\"ORGNISATION INVITES\",\"GUEST INVITES\",\"PERSONAL PROJECTS\",\"SIGNUP\",\"SIGNUP VIA GOOGLE_AUTH\"]\n",
        "\n",
        "myexplode = [0,0,0,0,0.15]\n",
        "fig = plt.figure(figsize =(15, 15))\n",
        "plt.pie(CS, labels = mylabels, explode = myexplode, shadow = True,autopct='%1.0f%%',textprops={'size': 'x-large'},colors=['#0fe3f2','#f57feb','#f5b92c','#bcff36','#aa7dff'])\n",
        "plt.title('       35% OF CREATION SOURSE(ORGANAISATION INVITES) INFLUESNCE USER ADOPTION',fontsize=25)\n",
        "plt.legend(title = \"CREATION SOURCE\",prop={'size': 15},loc='upper left')\n",
        "plt.tight_layout()\n",
        "plt.savefig(\"35% OF CREATION SOURSE(ORGANAISATION INVITES) INFLUESNCE USER ADOPTION.jpg\") "
      ],
      "execution_count": null,
      "outputs": [
        {
          "output_type": "display_data",
          "data": {
            "image/png": "[encoded data removed]",
            "text/plain": [
              "<Figure size 1080x1080 with 1 Axes>"
            ]
          },
          "metadata": {}
        }
      ]
    },
    {
      "cell_type": "code",
      "metadata": {
        "colab": {
          "base_uri": "https://localhost:8080/"
        },
        "id": "-zohn4nA-Cd8",
        "outputId": "701d85e0-5e10-4b64-82da-f140ea1df7d1"
      },
      "source": [
        "from sklearn import preprocessing\n",
        " \n",
        "LE = preprocessing.LabelEncoder()\n",
        " \n",
        "final['creation_source']=LE.fit_transform(final['creation_source'])\n",
        " \n",
        "\n",
        "final['creation_source'].unique()"
      ],
      "execution_count": null,
      "outputs": [
        {
          "output_type": "execute_result",
          "data": {
            "text/plain": [
              "array([0, 1, 3, 2, 4])"
            ]
          },
          "metadata": {},
          "execution_count": 213
        }
      ]
    },
    {
      "cell_type": "code",
      "metadata": {
        "colab": {
          "base_uri": "https://localhost:8080/"
        },
        "id": "l0uahzmePxMy",
        "outputId": "71eb8a83-b6ce-4ce2-969b-fe88cbe2ca59"
      },
      "source": [
        "\n",
        "opted_in_to_mailing_list=final.opted_in_to_mailing_list.value_counts()\n",
        "opted_in_to_mailing_list"
      ],
      "execution_count": null,
      "outputs": [
        {
          "output_type": "execute_result",
          "data": {
            "text/plain": [
              "0    9006\n",
              "1    2994\n",
              "Name: opted_in_to_mailing_list, dtype: int64"
            ]
          },
          "metadata": {},
          "execution_count": 218
        }
      ]
    },
    {
      "cell_type": "code",
      "metadata": {
        "colab": {
          "base_uri": "https://localhost:8080/",
          "height": 871
        },
        "id": "nJ9UUVhKN-Eh",
        "outputId": "6eac7bf1-a25b-4100-84a5-c2f325b0d246"
      },
      "source": [
        "y = opted_in_to_mailing_list\n",
        "mylabels = [\"Disabled\", \"Enabled\"]\n",
        "\n",
        "myexplode = [0, 0.15]\n",
        "fig = plt.figure(figsize =(15, 15))\n",
        "plt.pie(y, labels = mylabels, explode = myexplode, shadow = True,autopct='%1.0f%%',textprops={'size': 'x-large'},colors=['#0fe3f2','#f57feb'])\n",
        "plt.title('25% OF USERS ENABLED OPTED TO MAIL',fontsize=25)\n",
        "plt.legend(title = \"OPTED TO MAIL\",prop={'size': 16},loc='lower left')\n",
        "\n",
        "plt.savefig(\"25% OF USERS ENABLED OPTED TO MAIL.jpg\") "
      ],
      "execution_count": null,
      "outputs": [
        {
          "output_type": "display_data",
          "data": {
            "image/png": "[encoded data removed]",
            "text/plain": [
              "<Figure size 1080x1080 with 1 Axes>"
            ]
          },
          "metadata": {}
        }
      ]
    },
    {
      "cell_type": "code",
      "metadata": {
        "colab": {
          "base_uri": "https://localhost:8080/"
        },
        "id": "lTtkqqST5pBm",
        "outputId": "b9347dba-e78f-4dab-8806-4d81383f23f1"
      },
      "source": [
        "\n",
        "enabled_for_marketing_drip=final.enabled_for_marketing_drip.value_counts()\n",
        "enabled_for_marketing_drip"
      ],
      "execution_count": null,
      "outputs": [
        {
          "output_type": "execute_result",
          "data": {
            "text/plain": [
              "0    10208\n",
              "1     1792\n",
              "Name: enabled_for_marketing_drip, dtype: int64"
            ]
          },
          "metadata": {},
          "execution_count": 220
        }
      ]
    },
    {
      "cell_type": "code",
      "metadata": {
        "colab": {
          "base_uri": "https://localhost:8080/",
          "height": 871
        },
        "id": "Tih5th5nRn8q",
        "outputId": "17be0e79-231e-48f9-ee01-8842a05a3d2e"
      },
      "source": [
        "y = enabled_for_marketing_drip\n",
        "mylabels = [\"Disabled\", \"Enabled\"]\n",
        "\n",
        "myexplode = [0, 0.15]\n",
        "fig = plt.figure(figsize =(15, 15))\n",
        "plt.pie(y, labels = mylabels, explode = myexplode, shadow = True,autopct='%1.0f%%',textprops={'size': 'x-large'},colors=['#1bf56e','#7d95ff'])\n",
        "plt.title('15% OF USERS ENABLED MARKETING DRIP',fontsize=25)\n",
        "plt.legend(title = \"MARKETING DRIP\",prop={'size': 16},loc='lower left')\n",
        "\n",
        "\n",
        "plt.savefig(\"15% OF USERS ENABLED MAIL DRIP.jpg\") "
      ],
      "execution_count": 260,
      "outputs": [
        {
          "output_type": "display_data",
          "data": {
            "image/png": "[encoded data removed]",
            "text/plain": [
              "<Figure size 1080x1080 with 1 Axes>"
            ]
          },
          "metadata": {}
        }
      ]
    },
    {
      "cell_type": "markdown",
      "metadata": {
        "id": "X45Gi1NR6bD3"
      },
      "source": [
        "invited_by_user_id"
      ]
    },
    {
      "cell_type": "code",
      "metadata": {
        "colab": {
          "base_uri": "https://localhost:8080/"
        },
        "id": "4F4SFN7W6VN1",
        "outputId": "fbb5b50e-ace8-46af-e2af-67ec38eacaa3"
      },
      "source": [
        "invited_by_user_id=final.invited_by_user_id.value_counts()\n",
        "invited_by_user_id\n"
      ],
      "execution_count": null,
      "outputs": [
        {
          "output_type": "execute_result",
          "data": {
            "text/plain": [
              "0.0        5583\n",
              "10741.0      13\n",
              "2527.0       12\n",
              "1525.0       11\n",
              "2308.0       11\n",
              "           ... \n",
              "7941.0        1\n",
              "4134.0        1\n",
              "6101.0        1\n",
              "129.0         1\n",
              "594.0         1\n",
              "Name: invited_by_user_id, Length: 2565, dtype: int64"
            ]
          },
          "metadata": {},
          "execution_count": 222
        }
      ]
    },
    {
      "cell_type": "code",
      "metadata": {
        "colab": {
          "base_uri": "https://localhost:8080/",
          "height": 326
        },
        "id": "KjubTrR7k2m3",
        "outputId": "85df4d15-7822-4963-d4bf-6928f3d29811"
      },
      "source": [
        "final.head()"
      ],
      "execution_count": null,
      "outputs": [
        {
          "output_type": "execute_result",
          "data": {
            "text/html": [
              "<div>\n",
              "<style scoped>\n",
              "    .dataframe tbody tr th:only-of-type {\n",
              "        vertical-align: middle;\n",
              "    }\n",
              "\n",
              "    .dataframe tbody tr th {\n",
              "        vertical-align: top;\n",
              "    }\n",
              "\n",
              "    .dataframe thead th {\n",
              "        text-align: right;\n",
              "    }\n",
              "</style>\n",
              "<table border=\"1\" class=\"dataframe\">\n",
              "  <thead>\n",
              "    <tr style=\"text-align: right;\">\n",
              "      <th></th>\n",
              "      <th>user_id</th>\n",
              "      <th>creation_time</th>\n",
              "      <th>name</th>\n",
              "      <th>email</th>\n",
              "      <th>creation_source</th>\n",
              "      <th>last_session_creation_time</th>\n",
              "      <th>opted_in_to_mailing_list</th>\n",
              "      <th>enabled_for_marketing_drip</th>\n",
              "      <th>org_id</th>\n",
              "      <th>invited_by_user_id</th>\n",
              "      <th>TOTAL_NO_OF_VISITS</th>\n",
              "      <th>NO_OF COUNT&gt;3_PER_WEEK</th>\n",
              "      <th>TOTAL_NO_OF_VISITS</th>\n",
              "    </tr>\n",
              "  </thead>\n",
              "  <tbody>\n",
              "    <tr>\n",
              "      <th>0</th>\n",
              "      <td>1</td>\n",
              "      <td>2014-04-22 03:53:30</td>\n",
              "      <td>Clausen August</td>\n",
              "      <td>AugustCClausen@yahoo.com</td>\n",
              "      <td>0</td>\n",
              "      <td>1.398139e+09</td>\n",
              "      <td>1</td>\n",
              "      <td>0</td>\n",
              "      <td>11</td>\n",
              "      <td>10803.0</td>\n",
              "      <td>1</td>\n",
              "      <td>0</td>\n",
              "      <td>1</td>\n",
              "    </tr>\n",
              "    <tr>\n",
              "      <th>1</th>\n",
              "      <td>2</td>\n",
              "      <td>2013-11-15 03:45:04</td>\n",
              "      <td>Poole Matthew</td>\n",
              "      <td>MatthewPoole@gustr.com</td>\n",
              "      <td>1</td>\n",
              "      <td>1.396238e+09</td>\n",
              "      <td>0</td>\n",
              "      <td>0</td>\n",
              "      <td>1</td>\n",
              "      <td>316.0</td>\n",
              "      <td>14</td>\n",
              "      <td>10</td>\n",
              "      <td>14</td>\n",
              "    </tr>\n",
              "    <tr>\n",
              "      <th>2</th>\n",
              "      <td>3</td>\n",
              "      <td>2013-03-19 23:14:52</td>\n",
              "      <td>Bottrill Mitchell</td>\n",
              "      <td>MitchellBottrill@gustr.com</td>\n",
              "      <td>1</td>\n",
              "      <td>1.363735e+09</td>\n",
              "      <td>0</td>\n",
              "      <td>0</td>\n",
              "      <td>94</td>\n",
              "      <td>1525.0</td>\n",
              "      <td>1</td>\n",
              "      <td>0</td>\n",
              "      <td>1</td>\n",
              "    </tr>\n",
              "    <tr>\n",
              "      <th>3</th>\n",
              "      <td>4</td>\n",
              "      <td>2013-05-21 08:09:28</td>\n",
              "      <td>Clausen Nicklas</td>\n",
              "      <td>NicklasSClausen@yahoo.com</td>\n",
              "      <td>0</td>\n",
              "      <td>1.369210e+09</td>\n",
              "      <td>0</td>\n",
              "      <td>0</td>\n",
              "      <td>1</td>\n",
              "      <td>5151.0</td>\n",
              "      <td>1</td>\n",
              "      <td>0</td>\n",
              "      <td>1</td>\n",
              "    </tr>\n",
              "    <tr>\n",
              "      <th>4</th>\n",
              "      <td>5</td>\n",
              "      <td>2013-01-17 10:14:20</td>\n",
              "      <td>Raw Grace</td>\n",
              "      <td>GraceRaw@yahoo.com</td>\n",
              "      <td>0</td>\n",
              "      <td>1.358850e+09</td>\n",
              "      <td>0</td>\n",
              "      <td>0</td>\n",
              "      <td>193</td>\n",
              "      <td>5240.0</td>\n",
              "      <td>1</td>\n",
              "      <td>0</td>\n",
              "      <td>1</td>\n",
              "    </tr>\n",
              "  </tbody>\n",
              "</table>\n",
              "</div>"
            ],
            "text/plain": [
              "   user_id        creation_time  ... NO_OF COUNT>3_PER_WEEK TOTAL_NO_OF_VISITS\n",
              "0        1  2014-04-22 03:53:30  ...                      0                  1\n",
              "1        2  2013-11-15 03:45:04  ...                     10                 14\n",
              "2        3  2013-03-19 23:14:52  ...                      0                  1\n",
              "3        4  2013-05-21 08:09:28  ...                      0                  1\n",
              "4        5  2013-01-17 10:14:20  ...                      0                  1\n",
              "\n",
              "[5 rows x 13 columns]"
            ]
          },
          "metadata": {},
          "execution_count": 223
        }
      ]
    },
    {
      "cell_type": "code",
      "metadata": {
        "id": "nai1IbORrg_j"
      },
      "source": [
        "from datetime import datetime"
      ],
      "execution_count": null,
      "outputs": []
    },
    {
      "cell_type": "code",
      "metadata": {
        "id": "ySadzWuhqXOo"
      },
      "source": [
        "final['last_session_creation_time'] = pd.to_datetime(final['last_session_creation_time'],unit='s')"
      ],
      "execution_count": null,
      "outputs": []
    },
    {
      "cell_type": "code",
      "metadata": {
        "colab": {
          "base_uri": "https://localhost:8080/",
          "height": 566
        },
        "id": "hMmuZgSStxuP",
        "outputId": "fab81ed8-1ebb-4976-e6af-eaa7ee1b6eba"
      },
      "source": [
        "final.head(10)"
      ],
      "execution_count": null,
      "outputs": [
        {
          "output_type": "execute_result",
          "data": {
            "text/html": [
              "<div>\n",
              "<style scoped>\n",
              "    .dataframe tbody tr th:only-of-type {\n",
              "        vertical-align: middle;\n",
              "    }\n",
              "\n",
              "    .dataframe tbody tr th {\n",
              "        vertical-align: top;\n",
              "    }\n",
              "\n",
              "    .dataframe thead th {\n",
              "        text-align: right;\n",
              "    }\n",
              "</style>\n",
              "<table border=\"1\" class=\"dataframe\">\n",
              "  <thead>\n",
              "    <tr style=\"text-align: right;\">\n",
              "      <th></th>\n",
              "      <th>user_id</th>\n",
              "      <th>creation_time</th>\n",
              "      <th>name</th>\n",
              "      <th>email</th>\n",
              "      <th>creation_source</th>\n",
              "      <th>last_session_creation_time</th>\n",
              "      <th>opted_in_to_mailing_list</th>\n",
              "      <th>enabled_for_marketing_drip</th>\n",
              "      <th>org_id</th>\n",
              "      <th>invited_by_user_id</th>\n",
              "      <th>TOTAL_NO_OF_VISITS</th>\n",
              "      <th>NO_OF COUNT&gt;3_PER_WEEK</th>\n",
              "      <th>TOTAL_NO_OF_VISITS</th>\n",
              "    </tr>\n",
              "  </thead>\n",
              "  <tbody>\n",
              "    <tr>\n",
              "      <th>0</th>\n",
              "      <td>1</td>\n",
              "      <td>2014-04-22 03:53:30</td>\n",
              "      <td>Clausen August</td>\n",
              "      <td>AugustCClausen@yahoo.com</td>\n",
              "      <td>0</td>\n",
              "      <td>2014-04-22 03:53:30</td>\n",
              "      <td>1</td>\n",
              "      <td>0</td>\n",
              "      <td>11</td>\n",
              "      <td>10803.0</td>\n",
              "      <td>1</td>\n",
              "      <td>0</td>\n",
              "      <td>1</td>\n",
              "    </tr>\n",
              "    <tr>\n",
              "      <th>1</th>\n",
              "      <td>2</td>\n",
              "      <td>2013-11-15 03:45:04</td>\n",
              "      <td>Poole Matthew</td>\n",
              "      <td>MatthewPoole@gustr.com</td>\n",
              "      <td>1</td>\n",
              "      <td>2014-03-31 03:45:04</td>\n",
              "      <td>0</td>\n",
              "      <td>0</td>\n",
              "      <td>1</td>\n",
              "      <td>316.0</td>\n",
              "      <td>14</td>\n",
              "      <td>10</td>\n",
              "      <td>14</td>\n",
              "    </tr>\n",
              "    <tr>\n",
              "      <th>2</th>\n",
              "      <td>3</td>\n",
              "      <td>2013-03-19 23:14:52</td>\n",
              "      <td>Bottrill Mitchell</td>\n",
              "      <td>MitchellBottrill@gustr.com</td>\n",
              "      <td>1</td>\n",
              "      <td>2013-03-19 23:14:52</td>\n",
              "      <td>0</td>\n",
              "      <td>0</td>\n",
              "      <td>94</td>\n",
              "      <td>1525.0</td>\n",
              "      <td>1</td>\n",
              "      <td>0</td>\n",
              "      <td>1</td>\n",
              "    </tr>\n",
              "    <tr>\n",
              "      <th>3</th>\n",
              "      <td>4</td>\n",
              "      <td>2013-05-21 08:09:28</td>\n",
              "      <td>Clausen Nicklas</td>\n",
              "      <td>NicklasSClausen@yahoo.com</td>\n",
              "      <td>0</td>\n",
              "      <td>2013-05-22 08:09:28</td>\n",
              "      <td>0</td>\n",
              "      <td>0</td>\n",
              "      <td>1</td>\n",
              "      <td>5151.0</td>\n",
              "      <td>1</td>\n",
              "      <td>0</td>\n",
              "      <td>1</td>\n",
              "    </tr>\n",
              "    <tr>\n",
              "      <th>4</th>\n",
              "      <td>5</td>\n",
              "      <td>2013-01-17 10:14:20</td>\n",
              "      <td>Raw Grace</td>\n",
              "      <td>GraceRaw@yahoo.com</td>\n",
              "      <td>0</td>\n",
              "      <td>2013-01-22 10:14:20</td>\n",
              "      <td>0</td>\n",
              "      <td>0</td>\n",
              "      <td>193</td>\n",
              "      <td>5240.0</td>\n",
              "      <td>1</td>\n",
              "      <td>0</td>\n",
              "      <td>1</td>\n",
              "    </tr>\n",
              "    <tr>\n",
              "      <th>5</th>\n",
              "      <td>6</td>\n",
              "      <td>2013-12-17 03:37:06</td>\n",
              "      <td>Cunha Eduardo</td>\n",
              "      <td>EduardoPereiraCunha@yahoo.com</td>\n",
              "      <td>0</td>\n",
              "      <td>2013-12-19 03:37:06</td>\n",
              "      <td>0</td>\n",
              "      <td>0</td>\n",
              "      <td>197</td>\n",
              "      <td>11241.0</td>\n",
              "      <td>1</td>\n",
              "      <td>0</td>\n",
              "      <td>1</td>\n",
              "    </tr>\n",
              "    <tr>\n",
              "      <th>6</th>\n",
              "      <td>7</td>\n",
              "      <td>2012-12-16 13:24:32</td>\n",
              "      <td>Sewell Tyler</td>\n",
              "      <td>TylerSewell@jourrapide.com</td>\n",
              "      <td>3</td>\n",
              "      <td>2012-12-20 13:24:32</td>\n",
              "      <td>0</td>\n",
              "      <td>1</td>\n",
              "      <td>37</td>\n",
              "      <td>0.0</td>\n",
              "      <td>1</td>\n",
              "      <td>0</td>\n",
              "      <td>1</td>\n",
              "    </tr>\n",
              "    <tr>\n",
              "      <th>7</th>\n",
              "      <td>8</td>\n",
              "      <td>2013-07-31 05:34:02</td>\n",
              "      <td>Hamilton Danielle</td>\n",
              "      <td>DanielleHamilton@yahoo.com</td>\n",
              "      <td>2</td>\n",
              "      <td>1970-01-01 00:00:00</td>\n",
              "      <td>1</td>\n",
              "      <td>1</td>\n",
              "      <td>74</td>\n",
              "      <td>0.0</td>\n",
              "      <td>0</td>\n",
              "      <td>0</td>\n",
              "      <td>0</td>\n",
              "    </tr>\n",
              "    <tr>\n",
              "      <th>8</th>\n",
              "      <td>9</td>\n",
              "      <td>2013-11-05 04:04:24</td>\n",
              "      <td>Amsel Paul</td>\n",
              "      <td>PaulAmsel@hotmail.com</td>\n",
              "      <td>2</td>\n",
              "      <td>1970-01-01 00:00:00</td>\n",
              "      <td>0</td>\n",
              "      <td>0</td>\n",
              "      <td>302</td>\n",
              "      <td>0.0</td>\n",
              "      <td>0</td>\n",
              "      <td>0</td>\n",
              "      <td>0</td>\n",
              "    </tr>\n",
              "    <tr>\n",
              "      <th>9</th>\n",
              "      <td>10</td>\n",
              "      <td>2013-01-16 22:08:03</td>\n",
              "      <td>Santos Carla</td>\n",
              "      <td>CarlaFerreiraSantos@gustr.com</td>\n",
              "      <td>1</td>\n",
              "      <td>2014-06-03 22:08:03</td>\n",
              "      <td>1</td>\n",
              "      <td>1</td>\n",
              "      <td>318</td>\n",
              "      <td>4143.0</td>\n",
              "      <td>284</td>\n",
              "      <td>73</td>\n",
              "      <td>284</td>\n",
              "    </tr>\n",
              "  </tbody>\n",
              "</table>\n",
              "</div>"
            ],
            "text/plain": [
              "   user_id        creation_time  ... NO_OF COUNT>3_PER_WEEK TOTAL_NO_OF_VISITS\n",
              "0        1  2014-04-22 03:53:30  ...                      0                  1\n",
              "1        2  2013-11-15 03:45:04  ...                     10                 14\n",
              "2        3  2013-03-19 23:14:52  ...                      0                  1\n",
              "3        4  2013-05-21 08:09:28  ...                      0                  1\n",
              "4        5  2013-01-17 10:14:20  ...                      0                  1\n",
              "5        6  2013-12-17 03:37:06  ...                      0                  1\n",
              "6        7  2012-12-16 13:24:32  ...                      0                  1\n",
              "7        8  2013-07-31 05:34:02  ...                      0                  0\n",
              "8        9  2013-11-05 04:04:24  ...                      0                  0\n",
              "9       10  2013-01-16 22:08:03  ...                     73                284\n",
              "\n",
              "[10 rows x 13 columns]"
            ]
          },
          "metadata": {},
          "execution_count": 226
        }
      ]
    },
    {
      "cell_type": "code",
      "metadata": {
        "id": "C1LUKaxbqPY2"
      },
      "source": [
        "final['creation_time']=pd.to_datetime(final['creation_time'])"
      ],
      "execution_count": null,
      "outputs": []
    },
    {
      "cell_type": "code",
      "metadata": {
        "id": "B7EMjFTHzE8V"
      },
      "source": [
        "final['Time_span']=(final['last_session_creation_time']-final['creation_time']).dt.days"
      ],
      "execution_count": null,
      "outputs": []
    },
    {
      "cell_type": "code",
      "metadata": {
        "colab": {
          "base_uri": "https://localhost:8080/",
          "height": 326
        },
        "id": "sAWVTDmt8YK7",
        "outputId": "6be5cc6f-c455-4f79-fc3d-5dfde4d4aa9b"
      },
      "source": [
        "final.head()"
      ],
      "execution_count": null,
      "outputs": [
        {
          "output_type": "execute_result",
          "data": {
            "text/html": [
              "<div>\n",
              "<style scoped>\n",
              "    .dataframe tbody tr th:only-of-type {\n",
              "        vertical-align: middle;\n",
              "    }\n",
              "\n",
              "    .dataframe tbody tr th {\n",
              "        vertical-align: top;\n",
              "    }\n",
              "\n",
              "    .dataframe thead th {\n",
              "        text-align: right;\n",
              "    }\n",
              "</style>\n",
              "<table border=\"1\" class=\"dataframe\">\n",
              "  <thead>\n",
              "    <tr style=\"text-align: right;\">\n",
              "      <th></th>\n",
              "      <th>user_id</th>\n",
              "      <th>creation_time</th>\n",
              "      <th>name</th>\n",
              "      <th>email</th>\n",
              "      <th>creation_source</th>\n",
              "      <th>last_session_creation_time</th>\n",
              "      <th>opted_in_to_mailing_list</th>\n",
              "      <th>enabled_for_marketing_drip</th>\n",
              "      <th>org_id</th>\n",
              "      <th>invited_by_user_id</th>\n",
              "      <th>TOTAL_NO_OF_VISITS</th>\n",
              "      <th>NO_OF COUNT&gt;3_PER_WEEK</th>\n",
              "      <th>TOTAL_NO_OF_VISITS</th>\n",
              "      <th>Time_span</th>\n",
              "    </tr>\n",
              "  </thead>\n",
              "  <tbody>\n",
              "    <tr>\n",
              "      <th>0</th>\n",
              "      <td>1</td>\n",
              "      <td>2014-04-22 03:53:30</td>\n",
              "      <td>Clausen August</td>\n",
              "      <td>AugustCClausen@yahoo.com</td>\n",
              "      <td>0</td>\n",
              "      <td>2014-04-22 03:53:30</td>\n",
              "      <td>1</td>\n",
              "      <td>0</td>\n",
              "      <td>11</td>\n",
              "      <td>10803.0</td>\n",
              "      <td>1</td>\n",
              "      <td>0</td>\n",
              "      <td>1</td>\n",
              "      <td>0</td>\n",
              "    </tr>\n",
              "    <tr>\n",
              "      <th>1</th>\n",
              "      <td>2</td>\n",
              "      <td>2013-11-15 03:45:04</td>\n",
              "      <td>Poole Matthew</td>\n",
              "      <td>MatthewPoole@gustr.com</td>\n",
              "      <td>1</td>\n",
              "      <td>2014-03-31 03:45:04</td>\n",
              "      <td>0</td>\n",
              "      <td>0</td>\n",
              "      <td>1</td>\n",
              "      <td>316.0</td>\n",
              "      <td>14</td>\n",
              "      <td>10</td>\n",
              "      <td>14</td>\n",
              "      <td>136</td>\n",
              "    </tr>\n",
              "    <tr>\n",
              "      <th>2</th>\n",
              "      <td>3</td>\n",
              "      <td>2013-03-19 23:14:52</td>\n",
              "      <td>Bottrill Mitchell</td>\n",
              "      <td>MitchellBottrill@gustr.com</td>\n",
              "      <td>1</td>\n",
              "      <td>2013-03-19 23:14:52</td>\n",
              "      <td>0</td>\n",
              "      <td>0</td>\n",
              "      <td>94</td>\n",
              "      <td>1525.0</td>\n",
              "      <td>1</td>\n",
              "      <td>0</td>\n",
              "      <td>1</td>\n",
              "      <td>0</td>\n",
              "    </tr>\n",
              "    <tr>\n",
              "      <th>3</th>\n",
              "      <td>4</td>\n",
              "      <td>2013-05-21 08:09:28</td>\n",
              "      <td>Clausen Nicklas</td>\n",
              "      <td>NicklasSClausen@yahoo.com</td>\n",
              "      <td>0</td>\n",
              "      <td>2013-05-22 08:09:28</td>\n",
              "      <td>0</td>\n",
              "      <td>0</td>\n",
              "      <td>1</td>\n",
              "      <td>5151.0</td>\n",
              "      <td>1</td>\n",
              "      <td>0</td>\n",
              "      <td>1</td>\n",
              "      <td>1</td>\n",
              "    </tr>\n",
              "    <tr>\n",
              "      <th>4</th>\n",
              "      <td>5</td>\n",
              "      <td>2013-01-17 10:14:20</td>\n",
              "      <td>Raw Grace</td>\n",
              "      <td>GraceRaw@yahoo.com</td>\n",
              "      <td>0</td>\n",
              "      <td>2013-01-22 10:14:20</td>\n",
              "      <td>0</td>\n",
              "      <td>0</td>\n",
              "      <td>193</td>\n",
              "      <td>5240.0</td>\n",
              "      <td>1</td>\n",
              "      <td>0</td>\n",
              "      <td>1</td>\n",
              "      <td>5</td>\n",
              "    </tr>\n",
              "  </tbody>\n",
              "</table>\n",
              "</div>"
            ],
            "text/plain": [
              "   user_id       creation_time  ... TOTAL_NO_OF_VISITS Time_span\n",
              "0        1 2014-04-22 03:53:30  ...                  1         0\n",
              "1        2 2013-11-15 03:45:04  ...                 14       136\n",
              "2        3 2013-03-19 23:14:52  ...                  1         0\n",
              "3        4 2013-05-21 08:09:28  ...                  1         1\n",
              "4        5 2013-01-17 10:14:20  ...                  1         5\n",
              "\n",
              "[5 rows x 14 columns]"
            ]
          },
          "metadata": {},
          "execution_count": 229
        }
      ]
    },
    {
      "cell_type": "code",
      "metadata": {
        "id": "i0-dEG_58wo5"
      },
      "source": [
        "final['adopted']=(final['NO_OF COUNT>3_PER_WEEK']>0).astype(int)"
      ],
      "execution_count": null,
      "outputs": []
    },
    {
      "cell_type": "code",
      "metadata": {
        "id": "01q7oI5TSmUI"
      },
      "source": [
        "final[final['Time_span'] < 0] = 0"
      ],
      "execution_count": null,
      "outputs": []
    },
    {
      "cell_type": "code",
      "metadata": {
        "colab": {
          "base_uri": "https://localhost:8080/",
          "height": 532
        },
        "id": "DRA6KPh39usO",
        "outputId": "5bd0d256-0aeb-4af5-a9bb-c61a3251ed49"
      },
      "source": [
        "final.head(10)"
      ],
      "execution_count": null,
      "outputs": [
        {
          "output_type": "execute_result",
          "data": {
            "text/html": [
              "<div>\n",
              "<style scoped>\n",
              "    .dataframe tbody tr th:only-of-type {\n",
              "        vertical-align: middle;\n",
              "    }\n",
              "\n",
              "    .dataframe tbody tr th {\n",
              "        vertical-align: top;\n",
              "    }\n",
              "\n",
              "    .dataframe thead th {\n",
              "        text-align: right;\n",
              "    }\n",
              "</style>\n",
              "<table border=\"1\" class=\"dataframe\">\n",
              "  <thead>\n",
              "    <tr style=\"text-align: right;\">\n",
              "      <th></th>\n",
              "      <th>user_id</th>\n",
              "      <th>creation_time</th>\n",
              "      <th>name</th>\n",
              "      <th>email</th>\n",
              "      <th>creation_source</th>\n",
              "      <th>last_session_creation_time</th>\n",
              "      <th>opted_in_to_mailing_list</th>\n",
              "      <th>enabled_for_marketing_drip</th>\n",
              "      <th>org_id</th>\n",
              "      <th>invited_by_user_id</th>\n",
              "      <th>TOTAL_NO_OF_VISITS</th>\n",
              "      <th>NO_OF COUNT&gt;3_PER_WEEK</th>\n",
              "      <th>TOTAL_NO_OF_VISITS</th>\n",
              "      <th>Time_span</th>\n",
              "      <th>adopted</th>\n",
              "    </tr>\n",
              "  </thead>\n",
              "  <tbody>\n",
              "    <tr>\n",
              "      <th>0</th>\n",
              "      <td>1</td>\n",
              "      <td>2014-04-22 03:53:30</td>\n",
              "      <td>Clausen August</td>\n",
              "      <td>AugustCClausen@yahoo.com</td>\n",
              "      <td>0</td>\n",
              "      <td>2014-04-22 03:53:30</td>\n",
              "      <td>1</td>\n",
              "      <td>0</td>\n",
              "      <td>11</td>\n",
              "      <td>10803.0</td>\n",
              "      <td>1</td>\n",
              "      <td>0</td>\n",
              "      <td>1</td>\n",
              "      <td>0</td>\n",
              "      <td>0</td>\n",
              "    </tr>\n",
              "    <tr>\n",
              "      <th>1</th>\n",
              "      <td>2</td>\n",
              "      <td>2013-11-15 03:45:04</td>\n",
              "      <td>Poole Matthew</td>\n",
              "      <td>MatthewPoole@gustr.com</td>\n",
              "      <td>1</td>\n",
              "      <td>2014-03-31 03:45:04</td>\n",
              "      <td>0</td>\n",
              "      <td>0</td>\n",
              "      <td>1</td>\n",
              "      <td>316.0</td>\n",
              "      <td>14</td>\n",
              "      <td>10</td>\n",
              "      <td>14</td>\n",
              "      <td>136</td>\n",
              "      <td>1</td>\n",
              "    </tr>\n",
              "    <tr>\n",
              "      <th>2</th>\n",
              "      <td>3</td>\n",
              "      <td>2013-03-19 23:14:52</td>\n",
              "      <td>Bottrill Mitchell</td>\n",
              "      <td>MitchellBottrill@gustr.com</td>\n",
              "      <td>1</td>\n",
              "      <td>2013-03-19 23:14:52</td>\n",
              "      <td>0</td>\n",
              "      <td>0</td>\n",
              "      <td>94</td>\n",
              "      <td>1525.0</td>\n",
              "      <td>1</td>\n",
              "      <td>0</td>\n",
              "      <td>1</td>\n",
              "      <td>0</td>\n",
              "      <td>0</td>\n",
              "    </tr>\n",
              "    <tr>\n",
              "      <th>3</th>\n",
              "      <td>4</td>\n",
              "      <td>2013-05-21 08:09:28</td>\n",
              "      <td>Clausen Nicklas</td>\n",
              "      <td>NicklasSClausen@yahoo.com</td>\n",
              "      <td>0</td>\n",
              "      <td>2013-05-22 08:09:28</td>\n",
              "      <td>0</td>\n",
              "      <td>0</td>\n",
              "      <td>1</td>\n",
              "      <td>5151.0</td>\n",
              "      <td>1</td>\n",
              "      <td>0</td>\n",
              "      <td>1</td>\n",
              "      <td>1</td>\n",
              "      <td>0</td>\n",
              "    </tr>\n",
              "    <tr>\n",
              "      <th>4</th>\n",
              "      <td>5</td>\n",
              "      <td>2013-01-17 10:14:20</td>\n",
              "      <td>Raw Grace</td>\n",
              "      <td>GraceRaw@yahoo.com</td>\n",
              "      <td>0</td>\n",
              "      <td>2013-01-22 10:14:20</td>\n",
              "      <td>0</td>\n",
              "      <td>0</td>\n",
              "      <td>193</td>\n",
              "      <td>5240.0</td>\n",
              "      <td>1</td>\n",
              "      <td>0</td>\n",
              "      <td>1</td>\n",
              "      <td>5</td>\n",
              "      <td>0</td>\n",
              "    </tr>\n",
              "    <tr>\n",
              "      <th>5</th>\n",
              "      <td>6</td>\n",
              "      <td>2013-12-17 03:37:06</td>\n",
              "      <td>Cunha Eduardo</td>\n",
              "      <td>EduardoPereiraCunha@yahoo.com</td>\n",
              "      <td>0</td>\n",
              "      <td>2013-12-19 03:37:06</td>\n",
              "      <td>0</td>\n",
              "      <td>0</td>\n",
              "      <td>197</td>\n",
              "      <td>11241.0</td>\n",
              "      <td>1</td>\n",
              "      <td>0</td>\n",
              "      <td>1</td>\n",
              "      <td>2</td>\n",
              "      <td>0</td>\n",
              "    </tr>\n",
              "    <tr>\n",
              "      <th>6</th>\n",
              "      <td>7</td>\n",
              "      <td>2012-12-16 13:24:32</td>\n",
              "      <td>Sewell Tyler</td>\n",
              "      <td>TylerSewell@jourrapide.com</td>\n",
              "      <td>3</td>\n",
              "      <td>2012-12-20 13:24:32</td>\n",
              "      <td>0</td>\n",
              "      <td>1</td>\n",
              "      <td>37</td>\n",
              "      <td>0.0</td>\n",
              "      <td>1</td>\n",
              "      <td>0</td>\n",
              "      <td>1</td>\n",
              "      <td>4</td>\n",
              "      <td>0</td>\n",
              "    </tr>\n",
              "    <tr>\n",
              "      <th>7</th>\n",
              "      <td>0</td>\n",
              "      <td>0</td>\n",
              "      <td>0</td>\n",
              "      <td>0</td>\n",
              "      <td>0</td>\n",
              "      <td>0</td>\n",
              "      <td>0</td>\n",
              "      <td>0</td>\n",
              "      <td>0</td>\n",
              "      <td>0.0</td>\n",
              "      <td>0</td>\n",
              "      <td>0</td>\n",
              "      <td>0</td>\n",
              "      <td>0</td>\n",
              "      <td>0</td>\n",
              "    </tr>\n",
              "    <tr>\n",
              "      <th>8</th>\n",
              "      <td>0</td>\n",
              "      <td>0</td>\n",
              "      <td>0</td>\n",
              "      <td>0</td>\n",
              "      <td>0</td>\n",
              "      <td>0</td>\n",
              "      <td>0</td>\n",
              "      <td>0</td>\n",
              "      <td>0</td>\n",
              "      <td>0.0</td>\n",
              "      <td>0</td>\n",
              "      <td>0</td>\n",
              "      <td>0</td>\n",
              "      <td>0</td>\n",
              "      <td>0</td>\n",
              "    </tr>\n",
              "    <tr>\n",
              "      <th>9</th>\n",
              "      <td>10</td>\n",
              "      <td>2013-01-16 22:08:03</td>\n",
              "      <td>Santos Carla</td>\n",
              "      <td>CarlaFerreiraSantos@gustr.com</td>\n",
              "      <td>1</td>\n",
              "      <td>2014-06-03 22:08:03</td>\n",
              "      <td>1</td>\n",
              "      <td>1</td>\n",
              "      <td>318</td>\n",
              "      <td>4143.0</td>\n",
              "      <td>284</td>\n",
              "      <td>73</td>\n",
              "      <td>284</td>\n",
              "      <td>503</td>\n",
              "      <td>1</td>\n",
              "    </tr>\n",
              "  </tbody>\n",
              "</table>\n",
              "</div>"
            ],
            "text/plain": [
              "   user_id        creation_time  ... Time_span adopted\n",
              "0        1  2014-04-22 03:53:30  ...         0       0\n",
              "1        2  2013-11-15 03:45:04  ...       136       1\n",
              "2        3  2013-03-19 23:14:52  ...         0       0\n",
              "3        4  2013-05-21 08:09:28  ...         1       0\n",
              "4        5  2013-01-17 10:14:20  ...         5       0\n",
              "5        6  2013-12-17 03:37:06  ...         2       0\n",
              "6        7  2012-12-16 13:24:32  ...         4       0\n",
              "7        0                    0  ...         0       0\n",
              "8        0                    0  ...         0       0\n",
              "9       10  2013-01-16 22:08:03  ...       503       1\n",
              "\n",
              "[10 rows x 15 columns]"
            ]
          },
          "metadata": {},
          "execution_count": 232
        }
      ]
    },
    {
      "cell_type": "code",
      "metadata": {
        "id": "D-cMmOGQ_vjJ"
      },
      "source": [
        "from sklearn.linear_model import LogisticRegression\n"
      ],
      "execution_count": null,
      "outputs": []
    },
    {
      "cell_type": "code",
      "metadata": {
        "colab": {
          "base_uri": "https://localhost:8080/",
          "height": 326
        },
        "id": "g5kw0lqAxeKh",
        "outputId": "556bf1e4-99ee-4172-a585-6e61fa1552dd"
      },
      "source": [
        "final.head()"
      ],
      "execution_count": null,
      "outputs": [
        {
          "output_type": "execute_result",
          "data": {
            "text/html": [
              "<div>\n",
              "<style scoped>\n",
              "    .dataframe tbody tr th:only-of-type {\n",
              "        vertical-align: middle;\n",
              "    }\n",
              "\n",
              "    .dataframe tbody tr th {\n",
              "        vertical-align: top;\n",
              "    }\n",
              "\n",
              "    .dataframe thead th {\n",
              "        text-align: right;\n",
              "    }\n",
              "</style>\n",
              "<table border=\"1\" class=\"dataframe\">\n",
              "  <thead>\n",
              "    <tr style=\"text-align: right;\">\n",
              "      <th></th>\n",
              "      <th>user_id</th>\n",
              "      <th>creation_time</th>\n",
              "      <th>name</th>\n",
              "      <th>email</th>\n",
              "      <th>creation_source</th>\n",
              "      <th>last_session_creation_time</th>\n",
              "      <th>opted_in_to_mailing_list</th>\n",
              "      <th>enabled_for_marketing_drip</th>\n",
              "      <th>org_id</th>\n",
              "      <th>invited_by_user_id</th>\n",
              "      <th>TOTAL_NO_OF_VISITS</th>\n",
              "      <th>NO_OF COUNT&gt;3_PER_WEEK</th>\n",
              "      <th>TOTAL_NO_OF_VISITS</th>\n",
              "      <th>Time_span</th>\n",
              "      <th>adopted</th>\n",
              "    </tr>\n",
              "  </thead>\n",
              "  <tbody>\n",
              "    <tr>\n",
              "      <th>0</th>\n",
              "      <td>1</td>\n",
              "      <td>2014-04-22 03:53:30</td>\n",
              "      <td>Clausen August</td>\n",
              "      <td>AugustCClausen@yahoo.com</td>\n",
              "      <td>0</td>\n",
              "      <td>2014-04-22 03:53:30</td>\n",
              "      <td>1</td>\n",
              "      <td>0</td>\n",
              "      <td>11</td>\n",
              "      <td>10803.0</td>\n",
              "      <td>1</td>\n",
              "      <td>0</td>\n",
              "      <td>1</td>\n",
              "      <td>0</td>\n",
              "      <td>0</td>\n",
              "    </tr>\n",
              "    <tr>\n",
              "      <th>1</th>\n",
              "      <td>2</td>\n",
              "      <td>2013-11-15 03:45:04</td>\n",
              "      <td>Poole Matthew</td>\n",
              "      <td>MatthewPoole@gustr.com</td>\n",
              "      <td>1</td>\n",
              "      <td>2014-03-31 03:45:04</td>\n",
              "      <td>0</td>\n",
              "      <td>0</td>\n",
              "      <td>1</td>\n",
              "      <td>316.0</td>\n",
              "      <td>14</td>\n",
              "      <td>10</td>\n",
              "      <td>14</td>\n",
              "      <td>136</td>\n",
              "      <td>1</td>\n",
              "    </tr>\n",
              "    <tr>\n",
              "      <th>2</th>\n",
              "      <td>3</td>\n",
              "      <td>2013-03-19 23:14:52</td>\n",
              "      <td>Bottrill Mitchell</td>\n",
              "      <td>MitchellBottrill@gustr.com</td>\n",
              "      <td>1</td>\n",
              "      <td>2013-03-19 23:14:52</td>\n",
              "      <td>0</td>\n",
              "      <td>0</td>\n",
              "      <td>94</td>\n",
              "      <td>1525.0</td>\n",
              "      <td>1</td>\n",
              "      <td>0</td>\n",
              "      <td>1</td>\n",
              "      <td>0</td>\n",
              "      <td>0</td>\n",
              "    </tr>\n",
              "    <tr>\n",
              "      <th>3</th>\n",
              "      <td>4</td>\n",
              "      <td>2013-05-21 08:09:28</td>\n",
              "      <td>Clausen Nicklas</td>\n",
              "      <td>NicklasSClausen@yahoo.com</td>\n",
              "      <td>0</td>\n",
              "      <td>2013-05-22 08:09:28</td>\n",
              "      <td>0</td>\n",
              "      <td>0</td>\n",
              "      <td>1</td>\n",
              "      <td>5151.0</td>\n",
              "      <td>1</td>\n",
              "      <td>0</td>\n",
              "      <td>1</td>\n",
              "      <td>1</td>\n",
              "      <td>0</td>\n",
              "    </tr>\n",
              "    <tr>\n",
              "      <th>4</th>\n",
              "      <td>5</td>\n",
              "      <td>2013-01-17 10:14:20</td>\n",
              "      <td>Raw Grace</td>\n",
              "      <td>GraceRaw@yahoo.com</td>\n",
              "      <td>0</td>\n",
              "      <td>2013-01-22 10:14:20</td>\n",
              "      <td>0</td>\n",
              "      <td>0</td>\n",
              "      <td>193</td>\n",
              "      <td>5240.0</td>\n",
              "      <td>1</td>\n",
              "      <td>0</td>\n",
              "      <td>1</td>\n",
              "      <td>5</td>\n",
              "      <td>0</td>\n",
              "    </tr>\n",
              "  </tbody>\n",
              "</table>\n",
              "</div>"
            ],
            "text/plain": [
              "   user_id        creation_time  ... Time_span adopted\n",
              "0        1  2014-04-22 03:53:30  ...         0       0\n",
              "1        2  2013-11-15 03:45:04  ...       136       1\n",
              "2        3  2013-03-19 23:14:52  ...         0       0\n",
              "3        4  2013-05-21 08:09:28  ...         1       0\n",
              "4        5  2013-01-17 10:14:20  ...         5       0\n",
              "\n",
              "[5 rows x 15 columns]"
            ]
          },
          "metadata": {},
          "execution_count": 234
        }
      ]
    },
    {
      "cell_type": "code",
      "metadata": {
        "id": "4TqIH3UzASDH"
      },
      "source": [
        "x=final[['creation_source', 'opted_in_to_mailing_list', 'enabled_for_marketing_drip', 'Time_span']]\n",
        "y=final[['adopted']]"
      ],
      "execution_count": null,
      "outputs": []
    },
    {
      "cell_type": "code",
      "metadata": {
        "colab": {
          "base_uri": "https://localhost:8080/"
        },
        "id": "_ZoouAM0Bfqy",
        "outputId": "94cac5e5-328a-4658-c722-8a8c975dc9f6"
      },
      "source": [
        "final.dtypes"
      ],
      "execution_count": null,
      "outputs": [
        {
          "output_type": "execute_result",
          "data": {
            "text/plain": [
              "user_id                         int64\n",
              "creation_time                  object\n",
              "name                           object\n",
              "email                          object\n",
              "creation_source                 int64\n",
              "last_session_creation_time     object\n",
              "opted_in_to_mailing_list        int64\n",
              "enabled_for_marketing_drip      int64\n",
              "org_id                          int64\n",
              "invited_by_user_id            float64\n",
              "TOTAL_NO_OF_VISITS              int64\n",
              "NO_OF COUNT>3_PER_WEEK          int64\n",
              "TOTAL_NO_OF_VISITS              int64\n",
              "Time_span                       int64\n",
              "adopted                         int64\n",
              "dtype: object"
            ]
          },
          "metadata": {},
          "execution_count": 236
        }
      ]
    },
    {
      "cell_type": "code",
      "metadata": {
        "colab": {
          "base_uri": "https://localhost:8080/"
        },
        "id": "YbDvGuCOB0Xe",
        "outputId": "13f68f80-ba0b-4bac-a40a-b8754e334c4a"
      },
      "source": [
        "final.isna().sum()"
      ],
      "execution_count": null,
      "outputs": [
        {
          "output_type": "execute_result",
          "data": {
            "text/plain": [
              "user_id                       0\n",
              "creation_time                 0\n",
              "name                          0\n",
              "email                         0\n",
              "creation_source               0\n",
              "last_session_creation_time    0\n",
              "opted_in_to_mailing_list      0\n",
              "enabled_for_marketing_drip    0\n",
              "org_id                        0\n",
              "invited_by_user_id            0\n",
              "TOTAL_NO_OF_VISITS            0\n",
              "NO_OF COUNT>3_PER_WEEK        0\n",
              "TOTAL_NO_OF_VISITS            0\n",
              "Time_span                     0\n",
              "adopted                       0\n",
              "dtype: int64"
            ]
          },
          "metadata": {},
          "execution_count": 237
        }
      ]
    },
    {
      "cell_type": "code",
      "metadata": {
        "id": "EyLoUFo0Abv9"
      },
      "source": [
        "from sklearn.model_selection import train_test_split"
      ],
      "execution_count": null,
      "outputs": []
    },
    {
      "cell_type": "code",
      "metadata": {
        "id": "mEx5dBJaAlK2"
      },
      "source": [
        "x_train,x_test,y_train,y_test=train_test_split(x,y,test_size=0.20, random_state=5)"
      ],
      "execution_count": null,
      "outputs": []
    },
    {
      "cell_type": "code",
      "metadata": {
        "id": "Y9bnv6AgBFGN"
      },
      "source": [
        "lo_Reg=LogisticRegression()"
      ],
      "execution_count": null,
      "outputs": []
    },
    {
      "cell_type": "code",
      "metadata": {
        "colab": {
          "base_uri": "https://localhost:8080/"
        },
        "id": "_UNFlE5aBPDE",
        "outputId": "c3a3e3ec-a791-4e5c-9463-40109c096eb1"
      },
      "source": [
        "train=lo_Reg.fit(x,y)"
      ],
      "execution_count": null,
      "outputs": [
        {
          "output_type": "stream",
          "name": "stderr",
          "text": [
            "/usr/local/lib/python3.7/dist-packages/sklearn/utils/validation.py:760: DataConversionWarning: A column-vector y was passed when a 1d array was expected. Please change the shape of y to (n_samples, ), for example using ravel().\n",
            "  y = column_or_1d(y, warn=True)\n"
          ]
        }
      ]
    },
    {
      "cell_type": "code",
      "metadata": {
        "id": "GNKW7Jp6BXoT"
      },
      "source": [
        "y_predict=lo_Reg.predict(x_test)"
      ],
      "execution_count": null,
      "outputs": []
    },
    {
      "cell_type": "code",
      "metadata": {
        "colab": {
          "base_uri": "https://localhost:8080/"
        },
        "id": "FGJOsEeoF-rn",
        "outputId": "23bf8bfc-2ed1-412b-dfa6-e6b5cdef2d81"
      },
      "source": [
        "y_predict"
      ],
      "execution_count": null,
      "outputs": [
        {
          "output_type": "execute_result",
          "data": {
            "text/plain": [
              "array([0, 0, 0, ..., 1, 1, 1])"
            ]
          },
          "metadata": {},
          "execution_count": 243
        }
      ]
    },
    {
      "cell_type": "code",
      "metadata": {
        "colab": {
          "base_uri": "https://localhost:8080/"
        },
        "id": "QTQ8imlEF_u_",
        "outputId": "1d672ca9-2371-47be-b082-1af8b14197bc"
      },
      "source": [
        "\n",
        "from sklearn.metrics import accuracy_score\n",
        "\n",
        "accuracy_score(y_predict,y_test)"
      ],
      "execution_count": null,
      "outputs": [
        {
          "output_type": "execute_result",
          "data": {
            "text/plain": [
              "0.9954166666666666"
            ]
          },
          "metadata": {},
          "execution_count": 244
        }
      ]
    },
    {
      "cell_type": "code",
      "metadata": {
        "id": "-hblIDCEGu9M"
      },
      "source": [
        "from sklearn.metrics import classification_report"
      ],
      "execution_count": null,
      "outputs": []
    },
    {
      "cell_type": "code",
      "metadata": {
        "colab": {
          "base_uri": "https://localhost:8080/"
        },
        "id": "dm2UNhZkPBLE",
        "outputId": "e4263250-385c-470c-96d9-7422cb7bc7e2"
      },
      "source": [
        "print(classification_report(y_test,y_predict))"
      ],
      "execution_count": null,
      "outputs": [
        {
          "output_type": "stream",
          "name": "stdout",
          "text": [
            "              precision    recall  f1-score   support\n",
            "\n",
            "           0       1.00      1.00      1.00      1902\n",
            "           1       0.99      0.99      0.99       498\n",
            "\n",
            "    accuracy                           1.00      2400\n",
            "   macro avg       0.99      0.99      0.99      2400\n",
            "weighted avg       1.00      1.00      1.00      2400\n",
            "\n"
          ]
        }
      ]
    },
    {
      "cell_type": "code",
      "metadata": {
        "id": "LHSLv0EjPUxk"
      },
      "source": [
        "test=[]\n",
        "for x in y_test['adopted']:\n",
        "  test.append(x)"
      ],
      "execution_count": null,
      "outputs": []
    },
    {
      "cell_type": "code",
      "metadata": {
        "id": "YrE3S_WrTN14"
      },
      "source": [
        "predict=[]\n",
        "for x in y_predict:\n",
        "  predict.append(x)"
      ],
      "execution_count": null,
      "outputs": []
    },
    {
      "cell_type": "code",
      "metadata": {
        "id": "1NidW2acTbYz"
      },
      "source": [
        "predict_VS_test=pd.DataFrame(list(zip(test,predict)),columns =['Test', 'Predict'])"
      ],
      "execution_count": null,
      "outputs": []
    },
    {
      "cell_type": "code",
      "metadata": {
        "id": "Xvh2bAcIVBir"
      },
      "source": [
        "predict_VS_test.to_csv('predict_VS_test.csv')"
      ],
      "execution_count": null,
      "outputs": []
    },
    {
      "cell_type": "code",
      "metadata": {
        "id": "ZzDJ4aWR-5OR",
        "colab": {
          "base_uri": "https://localhost:8080/"
        },
        "outputId": "f62b17c9-da3d-45b3-e102-87f462976d86"
      },
      "source": [
        "print(\"REGRESSION CO-EFFICIENT=\",lo_Reg.coef_, \"\\nINTERCEPT\\t\\t=\",lo_Reg.intercept_)"
      ],
      "execution_count": 259,
      "outputs": [
        {
          "output_type": "stream",
          "name": "stdout",
          "text": [
            "REGRESSION CO-EFFICIENT= [[-0.15446028 -0.14785362  0.08701948  1.02253987]] \n",
            "INTERCEPT\t\t= [-7.64831909]\n"
          ]
        }
      ]
    },
    {
      "cell_type": "code",
      "metadata": {
        "id": "RJB0KV-2OyEd"
      },
      "source": [
        ""
      ],
      "execution_count": null,
      "outputs": []
    }
  ]
}